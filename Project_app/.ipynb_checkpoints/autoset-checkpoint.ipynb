{
 "cells": [
  {
   "cell_type": "code",
   "execution_count": 1,
   "id": "1195418e",
   "metadata": {},
   "outputs": [],
   "source": [
    "import numpy as np\n",
    "import pandas as pd\n",
    "\n",
    "import seaborn as sns\n",
    "from sklearn.linear_model import LinearRegression,LogisticRegression\n",
    "\n",
    "from sklearn.model_selection import train_test_split,GridSearchCV,RandomizedSearchCV\n",
    "from sklearn.metrics import mean_absolute_error,mean_squared_error,r2_score\n",
    "from sklearn.metrics import confusion_matrix,accuracy_score,classification_report\n",
    "from sklearn.impute import KNNImputer\n",
    "\n",
    "from sklearn.preprocessing import LabelEncoder,OneHotEncoder\n",
    "from sklearn.linear_model import Ridge, Lasso, RidgeClassifier,ElasticNet\n",
    "\n",
    "from sklearn.preprocessing import MinMaxScaler,StandardScaler\n",
    "\n",
    "\n",
    "import matplotlib.pyplot as plt\n",
    "\n",
    "from statsmodels.stats.outliers_influence import variance_inflation_factor\n",
    "import warnings\n",
    "warnings.filterwarnings(\"ignore\")\n",
    "\n",
    "from sklearn.ensemble import AdaBoostRegressor\n",
    "from sklearn.neighbors import KNeighborsRegressor"
   ]
  },
  {
   "cell_type": "markdown",
   "id": "1f77815b",
   "metadata": {},
   "source": [
    "# 1.Problem statement"
   ]
  },
  {
   "cell_type": "code",
   "execution_count": null,
   "id": "65c65821",
   "metadata": {},
   "outputs": [],
   "source": []
  },
  {
   "cell_type": "markdown",
   "id": "7b4ae335",
   "metadata": {},
   "source": [
    "To predict car prise using various features"
   ]
  },
  {
   "cell_type": "markdown",
   "id": "6f96e51a",
   "metadata": {},
   "source": [
    "# 2.Data Gathering"
   ]
  },
  {
   "cell_type": "code",
   "execution_count": 2,
   "id": "da4ae18d",
   "metadata": {},
   "outputs": [
    {
     "ename": "FileNotFoundError",
     "evalue": "[Errno 2] No such file or directory: 'autos_dataset.csv'",
     "output_type": "error",
     "traceback": [
      "\u001b[1;31m---------------------------------------------------------------------------\u001b[0m",
      "\u001b[1;31mFileNotFoundError\u001b[0m                         Traceback (most recent call last)",
      "\u001b[1;32m~\\AppData\\Local\\Temp\\ipykernel_13384\\2862375629.py\u001b[0m in \u001b[0;36m<module>\u001b[1;34m\u001b[0m\n\u001b[1;32m----> 1\u001b[1;33m \u001b[0mdf\u001b[0m \u001b[1;33m=\u001b[0m \u001b[0mpd\u001b[0m\u001b[1;33m.\u001b[0m\u001b[0mread_csv\u001b[0m\u001b[1;33m(\u001b[0m\u001b[1;34m\"autos_dataset.csv\"\u001b[0m\u001b[1;33m)\u001b[0m\u001b[1;33m\u001b[0m\u001b[1;33m\u001b[0m\u001b[0m\n\u001b[0m\u001b[0;32m      2\u001b[0m \u001b[0mdf\u001b[0m\u001b[1;33m\u001b[0m\u001b[1;33m\u001b[0m\u001b[0m\n",
      "\u001b[1;32m~\\anaconda3\\lib\\site-packages\\pandas\\util\\_decorators.py\u001b[0m in \u001b[0;36mwrapper\u001b[1;34m(*args, **kwargs)\u001b[0m\n\u001b[0;32m    309\u001b[0m                     \u001b[0mstacklevel\u001b[0m\u001b[1;33m=\u001b[0m\u001b[0mstacklevel\u001b[0m\u001b[1;33m,\u001b[0m\u001b[1;33m\u001b[0m\u001b[1;33m\u001b[0m\u001b[0m\n\u001b[0;32m    310\u001b[0m                 )\n\u001b[1;32m--> 311\u001b[1;33m             \u001b[1;32mreturn\u001b[0m \u001b[0mfunc\u001b[0m\u001b[1;33m(\u001b[0m\u001b[1;33m*\u001b[0m\u001b[0margs\u001b[0m\u001b[1;33m,\u001b[0m \u001b[1;33m**\u001b[0m\u001b[0mkwargs\u001b[0m\u001b[1;33m)\u001b[0m\u001b[1;33m\u001b[0m\u001b[1;33m\u001b[0m\u001b[0m\n\u001b[0m\u001b[0;32m    312\u001b[0m \u001b[1;33m\u001b[0m\u001b[0m\n\u001b[0;32m    313\u001b[0m         \u001b[1;32mreturn\u001b[0m \u001b[0mwrapper\u001b[0m\u001b[1;33m\u001b[0m\u001b[1;33m\u001b[0m\u001b[0m\n",
      "\u001b[1;32m~\\anaconda3\\lib\\site-packages\\pandas\\io\\parsers\\readers.py\u001b[0m in \u001b[0;36mread_csv\u001b[1;34m(filepath_or_buffer, sep, delimiter, header, names, index_col, usecols, squeeze, prefix, mangle_dupe_cols, dtype, engine, converters, true_values, false_values, skipinitialspace, skiprows, skipfooter, nrows, na_values, keep_default_na, na_filter, verbose, skip_blank_lines, parse_dates, infer_datetime_format, keep_date_col, date_parser, dayfirst, cache_dates, iterator, chunksize, compression, thousands, decimal, lineterminator, quotechar, quoting, doublequote, escapechar, comment, encoding, encoding_errors, dialect, error_bad_lines, warn_bad_lines, on_bad_lines, delim_whitespace, low_memory, memory_map, float_precision, storage_options)\u001b[0m\n\u001b[0;32m    676\u001b[0m     \u001b[0mkwds\u001b[0m\u001b[1;33m.\u001b[0m\u001b[0mupdate\u001b[0m\u001b[1;33m(\u001b[0m\u001b[0mkwds_defaults\u001b[0m\u001b[1;33m)\u001b[0m\u001b[1;33m\u001b[0m\u001b[1;33m\u001b[0m\u001b[0m\n\u001b[0;32m    677\u001b[0m \u001b[1;33m\u001b[0m\u001b[0m\n\u001b[1;32m--> 678\u001b[1;33m     \u001b[1;32mreturn\u001b[0m \u001b[0m_read\u001b[0m\u001b[1;33m(\u001b[0m\u001b[0mfilepath_or_buffer\u001b[0m\u001b[1;33m,\u001b[0m \u001b[0mkwds\u001b[0m\u001b[1;33m)\u001b[0m\u001b[1;33m\u001b[0m\u001b[1;33m\u001b[0m\u001b[0m\n\u001b[0m\u001b[0;32m    679\u001b[0m \u001b[1;33m\u001b[0m\u001b[0m\n\u001b[0;32m    680\u001b[0m \u001b[1;33m\u001b[0m\u001b[0m\n",
      "\u001b[1;32m~\\anaconda3\\lib\\site-packages\\pandas\\io\\parsers\\readers.py\u001b[0m in \u001b[0;36m_read\u001b[1;34m(filepath_or_buffer, kwds)\u001b[0m\n\u001b[0;32m    573\u001b[0m \u001b[1;33m\u001b[0m\u001b[0m\n\u001b[0;32m    574\u001b[0m     \u001b[1;31m# Create the parser.\u001b[0m\u001b[1;33m\u001b[0m\u001b[1;33m\u001b[0m\u001b[0m\n\u001b[1;32m--> 575\u001b[1;33m     \u001b[0mparser\u001b[0m \u001b[1;33m=\u001b[0m \u001b[0mTextFileReader\u001b[0m\u001b[1;33m(\u001b[0m\u001b[0mfilepath_or_buffer\u001b[0m\u001b[1;33m,\u001b[0m \u001b[1;33m**\u001b[0m\u001b[0mkwds\u001b[0m\u001b[1;33m)\u001b[0m\u001b[1;33m\u001b[0m\u001b[1;33m\u001b[0m\u001b[0m\n\u001b[0m\u001b[0;32m    576\u001b[0m \u001b[1;33m\u001b[0m\u001b[0m\n\u001b[0;32m    577\u001b[0m     \u001b[1;32mif\u001b[0m \u001b[0mchunksize\u001b[0m \u001b[1;32mor\u001b[0m \u001b[0miterator\u001b[0m\u001b[1;33m:\u001b[0m\u001b[1;33m\u001b[0m\u001b[1;33m\u001b[0m\u001b[0m\n",
      "\u001b[1;32m~\\anaconda3\\lib\\site-packages\\pandas\\io\\parsers\\readers.py\u001b[0m in \u001b[0;36m__init__\u001b[1;34m(self, f, engine, **kwds)\u001b[0m\n\u001b[0;32m    930\u001b[0m \u001b[1;33m\u001b[0m\u001b[0m\n\u001b[0;32m    931\u001b[0m         \u001b[0mself\u001b[0m\u001b[1;33m.\u001b[0m\u001b[0mhandles\u001b[0m\u001b[1;33m:\u001b[0m \u001b[0mIOHandles\u001b[0m \u001b[1;33m|\u001b[0m \u001b[1;32mNone\u001b[0m \u001b[1;33m=\u001b[0m \u001b[1;32mNone\u001b[0m\u001b[1;33m\u001b[0m\u001b[1;33m\u001b[0m\u001b[0m\n\u001b[1;32m--> 932\u001b[1;33m         \u001b[0mself\u001b[0m\u001b[1;33m.\u001b[0m\u001b[0m_engine\u001b[0m \u001b[1;33m=\u001b[0m \u001b[0mself\u001b[0m\u001b[1;33m.\u001b[0m\u001b[0m_make_engine\u001b[0m\u001b[1;33m(\u001b[0m\u001b[0mf\u001b[0m\u001b[1;33m,\u001b[0m \u001b[0mself\u001b[0m\u001b[1;33m.\u001b[0m\u001b[0mengine\u001b[0m\u001b[1;33m)\u001b[0m\u001b[1;33m\u001b[0m\u001b[1;33m\u001b[0m\u001b[0m\n\u001b[0m\u001b[0;32m    933\u001b[0m \u001b[1;33m\u001b[0m\u001b[0m\n\u001b[0;32m    934\u001b[0m     \u001b[1;32mdef\u001b[0m \u001b[0mclose\u001b[0m\u001b[1;33m(\u001b[0m\u001b[0mself\u001b[0m\u001b[1;33m)\u001b[0m\u001b[1;33m:\u001b[0m\u001b[1;33m\u001b[0m\u001b[1;33m\u001b[0m\u001b[0m\n",
      "\u001b[1;32m~\\anaconda3\\lib\\site-packages\\pandas\\io\\parsers\\readers.py\u001b[0m in \u001b[0;36m_make_engine\u001b[1;34m(self, f, engine)\u001b[0m\n\u001b[0;32m   1214\u001b[0m             \u001b[1;31m# \"Union[str, PathLike[str], ReadCsvBuffer[bytes], ReadCsvBuffer[str]]\"\u001b[0m\u001b[1;33m\u001b[0m\u001b[1;33m\u001b[0m\u001b[0m\n\u001b[0;32m   1215\u001b[0m             \u001b[1;31m# , \"str\", \"bool\", \"Any\", \"Any\", \"Any\", \"Any\", \"Any\"\u001b[0m\u001b[1;33m\u001b[0m\u001b[1;33m\u001b[0m\u001b[0m\n\u001b[1;32m-> 1216\u001b[1;33m             self.handles = get_handle(  # type: ignore[call-overload]\n\u001b[0m\u001b[0;32m   1217\u001b[0m                 \u001b[0mf\u001b[0m\u001b[1;33m,\u001b[0m\u001b[1;33m\u001b[0m\u001b[1;33m\u001b[0m\u001b[0m\n\u001b[0;32m   1218\u001b[0m                 \u001b[0mmode\u001b[0m\u001b[1;33m,\u001b[0m\u001b[1;33m\u001b[0m\u001b[1;33m\u001b[0m\u001b[0m\n",
      "\u001b[1;32m~\\anaconda3\\lib\\site-packages\\pandas\\io\\common.py\u001b[0m in \u001b[0;36mget_handle\u001b[1;34m(path_or_buf, mode, encoding, compression, memory_map, is_text, errors, storage_options)\u001b[0m\n\u001b[0;32m    784\u001b[0m         \u001b[1;32mif\u001b[0m \u001b[0mioargs\u001b[0m\u001b[1;33m.\u001b[0m\u001b[0mencoding\u001b[0m \u001b[1;32mand\u001b[0m \u001b[1;34m\"b\"\u001b[0m \u001b[1;32mnot\u001b[0m \u001b[1;32min\u001b[0m \u001b[0mioargs\u001b[0m\u001b[1;33m.\u001b[0m\u001b[0mmode\u001b[0m\u001b[1;33m:\u001b[0m\u001b[1;33m\u001b[0m\u001b[1;33m\u001b[0m\u001b[0m\n\u001b[0;32m    785\u001b[0m             \u001b[1;31m# Encoding\u001b[0m\u001b[1;33m\u001b[0m\u001b[1;33m\u001b[0m\u001b[0m\n\u001b[1;32m--> 786\u001b[1;33m             handle = open(\n\u001b[0m\u001b[0;32m    787\u001b[0m                 \u001b[0mhandle\u001b[0m\u001b[1;33m,\u001b[0m\u001b[1;33m\u001b[0m\u001b[1;33m\u001b[0m\u001b[0m\n\u001b[0;32m    788\u001b[0m                 \u001b[0mioargs\u001b[0m\u001b[1;33m.\u001b[0m\u001b[0mmode\u001b[0m\u001b[1;33m,\u001b[0m\u001b[1;33m\u001b[0m\u001b[1;33m\u001b[0m\u001b[0m\n",
      "\u001b[1;31mFileNotFoundError\u001b[0m: [Errno 2] No such file or directory: 'autos_dataset.csv'"
     ]
    }
   ],
   "source": [
    "df = pd.read_csv(\"autos_dataset.csv\")\n",
    "df"
   ]
  },
  {
   "cell_type": "markdown",
   "id": "fa214c82",
   "metadata": {},
   "source": [
    "# 3.EDA - Exploratory Data Analysis"
   ]
  },
  {
   "cell_type": "code",
   "execution_count": null,
   "id": "2f9708bf",
   "metadata": {},
   "outputs": [],
   "source": [
    "df.info()"
   ]
  },
  {
   "cell_type": "code",
   "execution_count": null,
   "id": "61d06a92",
   "metadata": {},
   "outputs": [],
   "source": [
    "df.shape\n"
   ]
  },
  {
   "cell_type": "code",
   "execution_count": null,
   "id": "a7e3aba1",
   "metadata": {},
   "outputs": [],
   "source": [
    "df.isna().sum()"
   ]
  },
  {
   "cell_type": "code",
   "execution_count": null,
   "id": "9d24d173",
   "metadata": {},
   "outputs": [],
   "source": [
    "df.head(1).T"
   ]
  },
  {
   "cell_type": "code",
   "execution_count": null,
   "id": "002837ba",
   "metadata": {},
   "outputs": [],
   "source": [
    "df['symboling'].value_counts()"
   ]
  },
  {
   "cell_type": "code",
   "execution_count": null,
   "id": "5cf5d16d",
   "metadata": {},
   "outputs": [],
   "source": [
    "df['normalized-losses'].value_counts()"
   ]
  },
  {
   "cell_type": "code",
   "execution_count": null,
   "id": "5c28d55c",
   "metadata": {},
   "outputs": [],
   "source": [
    "df['normalized-losses'].replace({'?':np.nan},inplace= True)"
   ]
  },
  {
   "cell_type": "code",
   "execution_count": null,
   "id": "f593e2c3",
   "metadata": {},
   "outputs": [],
   "source": [
    "df['normalized-losses']"
   ]
  },
  {
   "cell_type": "code",
   "execution_count": null,
   "id": "21e368e4",
   "metadata": {},
   "outputs": [],
   "source": [
    "df['make'].value_counts()"
   ]
  },
  {
   "cell_type": "code",
   "execution_count": null,
   "id": "e8ca9b1f",
   "metadata": {},
   "outputs": [],
   "source": [
    "df['fuel-type'].value_counts()"
   ]
  },
  {
   "cell_type": "code",
   "execution_count": null,
   "id": "7123a26b",
   "metadata": {},
   "outputs": [],
   "source": [
    "df['aspiration'].value_counts()"
   ]
  },
  {
   "cell_type": "code",
   "execution_count": null,
   "id": "f3383f98",
   "metadata": {},
   "outputs": [],
   "source": [
    "df['num-of-doors'].value_counts()"
   ]
  },
  {
   "cell_type": "code",
   "execution_count": null,
   "id": "98b48871",
   "metadata": {},
   "outputs": [],
   "source": [
    "df['num-of-doors'].replace({'?':np.nan},inplace = True)"
   ]
  },
  {
   "cell_type": "code",
   "execution_count": null,
   "id": "a0aa0edf",
   "metadata": {},
   "outputs": [],
   "source": [
    "df['num-of-doors'].value_counts()\n"
   ]
  },
  {
   "cell_type": "code",
   "execution_count": null,
   "id": "edb18561",
   "metadata": {},
   "outputs": [],
   "source": [
    "df['num-of-doors'].unique()"
   ]
  },
  {
   "cell_type": "code",
   "execution_count": null,
   "id": "f8e259cf",
   "metadata": {},
   "outputs": [],
   "source": [
    "df['body-style'].value_counts()"
   ]
  },
  {
   "cell_type": "code",
   "execution_count": null,
   "id": "2f2d08ac",
   "metadata": {},
   "outputs": [],
   "source": [
    "df['drive-wheels'].value_counts()"
   ]
  },
  {
   "cell_type": "code",
   "execution_count": null,
   "id": "199b3b62",
   "metadata": {},
   "outputs": [],
   "source": [
    "df['engine-location'].value_counts()"
   ]
  },
  {
   "cell_type": "code",
   "execution_count": null,
   "id": "1fb1818e",
   "metadata": {},
   "outputs": [],
   "source": [
    "df['wheel-base'].value_counts()"
   ]
  },
  {
   "cell_type": "code",
   "execution_count": null,
   "id": "d37ff24c",
   "metadata": {},
   "outputs": [],
   "source": [
    "df['length'].value_counts()"
   ]
  },
  {
   "cell_type": "code",
   "execution_count": null,
   "id": "3adea566",
   "metadata": {},
   "outputs": [],
   "source": [
    "df['length'].unique()"
   ]
  },
  {
   "cell_type": "code",
   "execution_count": null,
   "id": "cf724a6b",
   "metadata": {},
   "outputs": [],
   "source": [
    "df['width'].value_counts()"
   ]
  },
  {
   "cell_type": "code",
   "execution_count": null,
   "id": "5526a214",
   "metadata": {},
   "outputs": [],
   "source": [
    "df['height'].value_counts()"
   ]
  },
  {
   "cell_type": "code",
   "execution_count": null,
   "id": "c0f0f22d",
   "metadata": {},
   "outputs": [],
   "source": [
    "df['curb-weight'].value_counts()"
   ]
  },
  {
   "cell_type": "code",
   "execution_count": null,
   "id": "e99e79c4",
   "metadata": {},
   "outputs": [],
   "source": [
    "df['curb-weight'].unique()"
   ]
  },
  {
   "cell_type": "code",
   "execution_count": null,
   "id": "8e1aefc0",
   "metadata": {},
   "outputs": [],
   "source": [
    "df['engine-type'].value_counts()"
   ]
  },
  {
   "cell_type": "code",
   "execution_count": null,
   "id": "0959f851",
   "metadata": {},
   "outputs": [],
   "source": [
    "df['num-of-cylinders'].value_counts()"
   ]
  },
  {
   "cell_type": "code",
   "execution_count": null,
   "id": "ccf957b7",
   "metadata": {},
   "outputs": [],
   "source": [
    "df['engine-size'].value_counts()"
   ]
  },
  {
   "cell_type": "code",
   "execution_count": null,
   "id": "a672e673",
   "metadata": {},
   "outputs": [],
   "source": [
    "df.head(1).T"
   ]
  },
  {
   "cell_type": "code",
   "execution_count": null,
   "id": "ba2ff69a",
   "metadata": {},
   "outputs": [],
   "source": [
    "df['fuel-system'].value_counts()"
   ]
  },
  {
   "cell_type": "code",
   "execution_count": null,
   "id": "5432f092",
   "metadata": {},
   "outputs": [],
   "source": [
    "df['bore'].value_counts()"
   ]
  },
  {
   "cell_type": "code",
   "execution_count": null,
   "id": "243d407f",
   "metadata": {},
   "outputs": [],
   "source": [
    "df['bore'].replace({\"?\":np.nan},inplace = True)"
   ]
  },
  {
   "cell_type": "code",
   "execution_count": null,
   "id": "d7946a99",
   "metadata": {},
   "outputs": [],
   "source": [
    "df['stroke'].value_counts()"
   ]
  },
  {
   "cell_type": "code",
   "execution_count": null,
   "id": "6eaadacb",
   "metadata": {},
   "outputs": [],
   "source": [
    "df['stroke'].replace({\"?\":np.nan},inplace = True)"
   ]
  },
  {
   "cell_type": "code",
   "execution_count": null,
   "id": "b21117fb",
   "metadata": {},
   "outputs": [],
   "source": [
    "df['compression-ratio'].value_counts()"
   ]
  },
  {
   "cell_type": "code",
   "execution_count": null,
   "id": "9a74bc7e",
   "metadata": {
    "scrolled": true
   },
   "outputs": [],
   "source": [
    "df['horsepower'].value_counts()"
   ]
  },
  {
   "cell_type": "code",
   "execution_count": null,
   "id": "269f9902",
   "metadata": {},
   "outputs": [],
   "source": [
    "df['horsepower'].replace({\"?\":np.nan})"
   ]
  },
  {
   "cell_type": "code",
   "execution_count": null,
   "id": "29f4e60f",
   "metadata": {},
   "outputs": [],
   "source": [
    "df['peak-rpm'].value_counts()"
   ]
  },
  {
   "cell_type": "code",
   "execution_count": null,
   "id": "abc379d3",
   "metadata": {},
   "outputs": [],
   "source": [
    "df['peak-rpm'].replace({\"?\":np.nan},inplace = True)"
   ]
  },
  {
   "cell_type": "code",
   "execution_count": null,
   "id": "a9886402",
   "metadata": {},
   "outputs": [],
   "source": [
    "df['city-mpg'].value_counts()"
   ]
  },
  {
   "cell_type": "code",
   "execution_count": null,
   "id": "c537fe0f",
   "metadata": {},
   "outputs": [],
   "source": [
    "df['highway-mpg'].value_counts()"
   ]
  },
  {
   "cell_type": "code",
   "execution_count": null,
   "id": "1f6ae1b1",
   "metadata": {},
   "outputs": [],
   "source": [
    "df['price'].value_counts()"
   ]
  },
  {
   "cell_type": "code",
   "execution_count": null,
   "id": "64b046dd",
   "metadata": {},
   "outputs": [],
   "source": [
    "df['price'].replace({\"?\":np.nan},inplace = True)"
   ]
  },
  {
   "cell_type": "code",
   "execution_count": null,
   "id": "b5e2ea9c",
   "metadata": {},
   "outputs": [],
   "source": [
    "df['price'].unique()"
   ]
  },
  {
   "cell_type": "code",
   "execution_count": null,
   "id": "3580ab0f",
   "metadata": {},
   "outputs": [],
   "source": [
    "df.describe()"
   ]
  },
  {
   "cell_type": "markdown",
   "id": "e3b07896",
   "metadata": {},
   "source": [
    "## 1.handling missing value"
   ]
  },
  {
   "cell_type": "code",
   "execution_count": null,
   "id": "6710362d",
   "metadata": {},
   "outputs": [],
   "source": [
    "df.head()"
   ]
  },
  {
   "cell_type": "code",
   "execution_count": null,
   "id": "b2e50578",
   "metadata": {},
   "outputs": [],
   "source": [
    "df['normalized-losses'].unique()"
   ]
  },
  {
   "cell_type": "code",
   "execution_count": null,
   "id": "c4d7e5a2",
   "metadata": {},
   "outputs": [],
   "source": [
    "df['normalized-losses'].isna().sum()"
   ]
  },
  {
   "cell_type": "code",
   "execution_count": null,
   "id": "90bc8fd7",
   "metadata": {},
   "outputs": [],
   "source": [
    "df['normalized-losses']= df['normalized-losses'].astype(float)"
   ]
  },
  {
   "cell_type": "code",
   "execution_count": null,
   "id": "8a131e69",
   "metadata": {},
   "outputs": [],
   "source": [
    "df['normalized-losses'].dtype"
   ]
  },
  {
   "cell_type": "code",
   "execution_count": null,
   "id": "a4b05a23",
   "metadata": {},
   "outputs": [],
   "source": [
    "df['normalized-losses'].mean()"
   ]
  },
  {
   "cell_type": "code",
   "execution_count": null,
   "id": "c71116f8",
   "metadata": {},
   "outputs": [],
   "source": [
    "df['normalized-losses'].median()"
   ]
  },
  {
   "cell_type": "code",
   "execution_count": null,
   "id": "2bb423b4",
   "metadata": {},
   "outputs": [],
   "source": [
    "df['normalized-losses'].mode()"
   ]
  },
  {
   "cell_type": "code",
   "execution_count": null,
   "id": "1d0fe25d",
   "metadata": {},
   "outputs": [],
   "source": [
    "df['normalized-losses'].isna().mean() * 100"
   ]
  },
  {
   "cell_type": "code",
   "execution_count": null,
   "id": "f29ae354",
   "metadata": {},
   "outputs": [],
   "source": [
    "sns.kdeplot(df['normalized-losses'])"
   ]
  },
  {
   "cell_type": "code",
   "execution_count": null,
   "id": "d76d939b",
   "metadata": {},
   "outputs": [],
   "source": [
    "#df['normalized-losses']  = df['normalized-losses'].fillna(df['normalized-losses'].mean())"
   ]
  },
  {
   "cell_type": "code",
   "execution_count": null,
   "id": "d58558be",
   "metadata": {},
   "outputs": [],
   "source": [
    "sns.kdeplot(df['normalized-losses'])"
   ]
  },
  {
   "cell_type": "code",
   "execution_count": null,
   "id": "b19624d2",
   "metadata": {},
   "outputs": [],
   "source": [
    "# 20% missing values in normalized-losses\n",
    "# tried imutting values with mean the distribution is not normal\n",
    "# that reason shifting to knn-imputer"
   ]
  },
  {
   "cell_type": "code",
   "execution_count": null,
   "id": "8c299e4d",
   "metadata": {},
   "outputs": [],
   "source": [
    "df['normalized-losses'].isna().sum()"
   ]
  },
  {
   "cell_type": "code",
   "execution_count": null,
   "id": "c534c8bd",
   "metadata": {},
   "outputs": [],
   "source": [
    "#knn_imputer = KNNImputer(n_neighbors=3)\n",
    "#array = knn_imputer.fit_transform(df['normalized-losses'])"
   ]
  },
  {
   "cell_type": "code",
   "execution_count": null,
   "id": "6684b0b3",
   "metadata": {},
   "outputs": [],
   "source": [
    "df.info()"
   ]
  },
  {
   "cell_type": "code",
   "execution_count": null,
   "id": "65826535",
   "metadata": {},
   "outputs": [],
   "source": [
    "df.head(1).T"
   ]
  },
  {
   "cell_type": "code",
   "execution_count": null,
   "id": "1e6e73f6",
   "metadata": {},
   "outputs": [],
   "source": [
    "df['make'].value_counts()"
   ]
  },
  {
   "cell_type": "code",
   "execution_count": null,
   "id": "e072efdd",
   "metadata": {},
   "outputs": [],
   "source": [
    "df['make'].sort_values"
   ]
  },
  {
   "cell_type": "code",
   "execution_count": null,
   "id": "e32fd02d",
   "metadata": {},
   "outputs": [],
   "source": [
    "# 1st we sort the column alphabetacaly then sort the assign value "
   ]
  },
  {
   "cell_type": "code",
   "execution_count": null,
   "id": "47235d27",
   "metadata": {},
   "outputs": [],
   "source": [
    "label_enc = LabelEncoder()\n",
    "arr = label_enc.fit_transform(df['make'])\n",
    "df['make'] = pd.Series(arr)"
   ]
  },
  {
   "cell_type": "code",
   "execution_count": null,
   "id": "3d87c754",
   "metadata": {},
   "outputs": [],
   "source": [
    "df['make']"
   ]
  },
  {
   "cell_type": "code",
   "execution_count": null,
   "id": "9cb46911",
   "metadata": {},
   "outputs": [],
   "source": [
    "df.info()"
   ]
  },
  {
   "cell_type": "code",
   "execution_count": null,
   "id": "258c97bb",
   "metadata": {},
   "outputs": [],
   "source": [
    "df['fuel-type'].value_counts().to_dict()"
   ]
  },
  {
   "cell_type": "code",
   "execution_count": null,
   "id": "bb5df8b0",
   "metadata": {},
   "outputs": [],
   "source": [
    "df['fuel-type'].replace({'gas': 1, 'diesel': 2},inplace = True)"
   ]
  },
  {
   "cell_type": "code",
   "execution_count": null,
   "id": "edc6ccd0",
   "metadata": {},
   "outputs": [],
   "source": [
    "df['aspiration'].value_counts().to_dict()"
   ]
  },
  {
   "cell_type": "code",
   "execution_count": null,
   "id": "286edaab",
   "metadata": {},
   "outputs": [],
   "source": [
    "df['aspiration'].replace({'std': 0, 'turbo': 1},inplace =True)"
   ]
  },
  {
   "cell_type": "code",
   "execution_count": null,
   "id": "fc9fda9c",
   "metadata": {},
   "outputs": [],
   "source": [
    "df['num-of-doors'].unique()"
   ]
  },
  {
   "cell_type": "code",
   "execution_count": null,
   "id": "7275a807",
   "metadata": {},
   "outputs": [],
   "source": [
    "df['num-of-doors'].replace({'two':2,\"four\":4},inplace = True)"
   ]
  },
  {
   "cell_type": "code",
   "execution_count": null,
   "id": "759c0d62",
   "metadata": {},
   "outputs": [],
   "source": [
    "df['num-of-doors'].isna().sum()"
   ]
  },
  {
   "cell_type": "code",
   "execution_count": null,
   "id": "edd2f2d7",
   "metadata": {},
   "outputs": [],
   "source": [
    "df['num-of-doors'].mean()"
   ]
  },
  {
   "cell_type": "code",
   "execution_count": null,
   "id": "fce3e23b",
   "metadata": {},
   "outputs": [],
   "source": [
    "df['num-of-doors'].median()"
   ]
  },
  {
   "cell_type": "code",
   "execution_count": null,
   "id": "e675fccb",
   "metadata": {},
   "outputs": [],
   "source": [
    "df['num-of-doors'].mode()"
   ]
  },
  {
   "cell_type": "code",
   "execution_count": null,
   "id": "8abf06a9",
   "metadata": {},
   "outputs": [],
   "source": [
    "df['num-of-doors'] = df['num-of-doors'].fillna(df['num-of-doors'].median())"
   ]
  },
  {
   "cell_type": "code",
   "execution_count": null,
   "id": "d75e336c",
   "metadata": {},
   "outputs": [],
   "source": [
    "df['num-of-doors']"
   ]
  },
  {
   "cell_type": "code",
   "execution_count": null,
   "id": "def8fef3",
   "metadata": {},
   "outputs": [],
   "source": [
    "df['body-style'].value_counts().to_dict()"
   ]
  },
  {
   "cell_type": "code",
   "execution_count": null,
   "id": "885670fb",
   "metadata": {},
   "outputs": [],
   "source": [
    "df['body-style'].replace({'sedan': 1, 'hatchback': 2, 'wagon': 3, 'hardtop': 4, 'convertible': 5},inplace = True)"
   ]
  },
  {
   "cell_type": "code",
   "execution_count": null,
   "id": "ecc577b5",
   "metadata": {},
   "outputs": [],
   "source": [
    "df.info()"
   ]
  },
  {
   "cell_type": "code",
   "execution_count": null,
   "id": "d74aeec6",
   "metadata": {},
   "outputs": [],
   "source": [
    "df\n"
   ]
  },
  {
   "cell_type": "code",
   "execution_count": null,
   "id": "b25ba00f",
   "metadata": {},
   "outputs": [],
   "source": [
    "df['drive-wheels'].value_counts().to_dict()"
   ]
  },
  {
   "cell_type": "code",
   "execution_count": null,
   "id": "dc5c41be",
   "metadata": {},
   "outputs": [],
   "source": [
    "df['drive-wheels'] # fwd ->front wheel drive,rear wheel drive,4 wheel drive - all tier"
   ]
  },
  {
   "cell_type": "code",
   "execution_count": null,
   "id": "81f7d906",
   "metadata": {},
   "outputs": [],
   "source": [
    "df['drive-wheels'].isna().sum()"
   ]
  },
  {
   "cell_type": "code",
   "execution_count": null,
   "id": "867a00b6",
   "metadata": {},
   "outputs": [],
   "source": [
    "df['drive-wheels'].replace({'fwd': 1, 'rwd': 2, '4wd': 3},inplace = True)"
   ]
  },
  {
   "cell_type": "code",
   "execution_count": null,
   "id": "45e21fd7",
   "metadata": {},
   "outputs": [],
   "source": [
    "df['drive-wheels']"
   ]
  },
  {
   "cell_type": "code",
   "execution_count": null,
   "id": "7dd7102a",
   "metadata": {},
   "outputs": [],
   "source": [
    "df['engine-location'].value_counts().to_dict()"
   ]
  },
  {
   "cell_type": "code",
   "execution_count": null,
   "id": "472c97ab",
   "metadata": {},
   "outputs": [],
   "source": [
    "df['engine-location'].replace({'front': 1, 'rear': 2},inplace=True)"
   ]
  },
  {
   "cell_type": "code",
   "execution_count": null,
   "id": "6233c918",
   "metadata": {},
   "outputs": [],
   "source": [
    "df['wheel-base'].value_counts()"
   ]
  },
  {
   "cell_type": "code",
   "execution_count": null,
   "id": "fd05ac37",
   "metadata": {},
   "outputs": [],
   "source": [
    "df['wheel-base'].isna().sum()"
   ]
  },
  {
   "cell_type": "code",
   "execution_count": null,
   "id": "3fe3f2ce",
   "metadata": {},
   "outputs": [],
   "source": [
    "df['engine-type'].value_counts().to_dict()"
   ]
  },
  {
   "cell_type": "code",
   "execution_count": null,
   "id": "bd36ff0d",
   "metadata": {},
   "outputs": [],
   "source": [
    "df['engine-type'].replace({'ohc': 1,'ohcf': 2,'ohcv': 3,'dohc': 4,'l': 5,'rotor': 6,'dohcv': 7},inplace = True)"
   ]
  },
  {
   "cell_type": "code",
   "execution_count": null,
   "id": "4fbdf879",
   "metadata": {},
   "outputs": [],
   "source": [
    "df['num-of-cylinders'].value_counts().to_dict()"
   ]
  },
  {
   "cell_type": "code",
   "execution_count": null,
   "id": "196db773",
   "metadata": {},
   "outputs": [],
   "source": [
    "df['num-of-cylinders'].replace({'four': 4,'six': 6,'five': 5,'eight': 8,'two': 2,'three': 3,'twelve': 12},inplace = True)"
   ]
  },
  {
   "cell_type": "code",
   "execution_count": null,
   "id": "6bad2f67",
   "metadata": {},
   "outputs": [],
   "source": [
    "df['fuel-system'].value_counts().to_dict()"
   ]
  },
  {
   "cell_type": "code",
   "execution_count": null,
   "id": "1ba6e169",
   "metadata": {},
   "outputs": [],
   "source": [
    "df['fuel-system'].replace({'mpfi': 1,\n",
    " '2bbl': 2,\n",
    " 'idi': 3,\n",
    " '1bbl': 4,\n",
    " 'spdi': 5,\n",
    " '4bbl': 6,\n",
    " 'mfi': 7,\n",
    " 'spfi': 8},inplace=True)"
   ]
  },
  {
   "cell_type": "code",
   "execution_count": null,
   "id": "44c8d209",
   "metadata": {},
   "outputs": [],
   "source": [
    "df.info()"
   ]
  },
  {
   "cell_type": "code",
   "execution_count": null,
   "id": "4b29e2ad",
   "metadata": {},
   "outputs": [],
   "source": [
    "df['bore'].value_counts()"
   ]
  },
  {
   "cell_type": "code",
   "execution_count": null,
   "id": "25fc8f29",
   "metadata": {},
   "outputs": [],
   "source": [
    "df['bore'].isna().sum()"
   ]
  },
  {
   "cell_type": "code",
   "execution_count": null,
   "id": "fd463da3",
   "metadata": {},
   "outputs": [],
   "source": [
    "df['bore']=  df['bore'].astype(float)"
   ]
  },
  {
   "cell_type": "code",
   "execution_count": null,
   "id": "25d1dd2a",
   "metadata": {},
   "outputs": [],
   "source": [
    "df['bore'].mean()"
   ]
  },
  {
   "cell_type": "code",
   "execution_count": null,
   "id": "3d527ee4",
   "metadata": {},
   "outputs": [],
   "source": [
    "df['bore'].median()"
   ]
  },
  {
   "cell_type": "code",
   "execution_count": null,
   "id": "c85202ed",
   "metadata": {},
   "outputs": [],
   "source": [
    "df['bore'].mode()"
   ]
  },
  {
   "cell_type": "code",
   "execution_count": null,
   "id": "519977e6",
   "metadata": {},
   "outputs": [],
   "source": [
    "df['bore'] = df['bore'].fillna(df['bore'].median())"
   ]
  },
  {
   "cell_type": "code",
   "execution_count": null,
   "id": "f597c667",
   "metadata": {},
   "outputs": [],
   "source": [
    "df['bore'].isna().sum()"
   ]
  },
  {
   "cell_type": "code",
   "execution_count": null,
   "id": "0a38f836",
   "metadata": {},
   "outputs": [],
   "source": [
    "df['stroke'] = df['stroke'].astype(float)"
   ]
  },
  {
   "cell_type": "code",
   "execution_count": null,
   "id": "cf4bb1f6",
   "metadata": {},
   "outputs": [],
   "source": [
    "df['stroke'].mean()"
   ]
  },
  {
   "cell_type": "code",
   "execution_count": null,
   "id": "cbadb1fa",
   "metadata": {},
   "outputs": [],
   "source": [
    "df['stroke'].mode()"
   ]
  },
  {
   "cell_type": "code",
   "execution_count": null,
   "id": "d0a7028e",
   "metadata": {},
   "outputs": [],
   "source": [
    "df['stroke'].median()"
   ]
  },
  {
   "cell_type": "code",
   "execution_count": null,
   "id": "76bfad0a",
   "metadata": {},
   "outputs": [],
   "source": [
    "df['stroke'] = df['stroke'].fillna(df['stroke'].median())"
   ]
  },
  {
   "cell_type": "code",
   "execution_count": null,
   "id": "e03f02d4",
   "metadata": {},
   "outputs": [],
   "source": [
    "df['horsepower'].value_counts()"
   ]
  },
  {
   "cell_type": "code",
   "execution_count": null,
   "id": "992ab44b",
   "metadata": {},
   "outputs": [],
   "source": [
    "df['horsepower'].replace({\"?\":np.nan},inplace = True)"
   ]
  },
  {
   "cell_type": "code",
   "execution_count": null,
   "id": "c619bde5",
   "metadata": {},
   "outputs": [],
   "source": [
    "df['horsepower'] = df['horsepower'].astype(float)"
   ]
  },
  {
   "cell_type": "code",
   "execution_count": null,
   "id": "33b9afda",
   "metadata": {},
   "outputs": [],
   "source": [
    "df['horsepower'].mean()"
   ]
  },
  {
   "cell_type": "code",
   "execution_count": null,
   "id": "9ce583e1",
   "metadata": {},
   "outputs": [],
   "source": [
    "df['horsepower'].mode()"
   ]
  },
  {
   "cell_type": "code",
   "execution_count": null,
   "id": "e7aa4823",
   "metadata": {},
   "outputs": [],
   "source": [
    "df['horsepower'].median()"
   ]
  },
  {
   "cell_type": "code",
   "execution_count": null,
   "id": "32457a26",
   "metadata": {},
   "outputs": [],
   "source": [
    "df['peak-rpm'].value_counts()"
   ]
  },
  {
   "cell_type": "code",
   "execution_count": null,
   "id": "a505d226",
   "metadata": {},
   "outputs": [],
   "source": [
    "df['peak-rpm'] = df['peak-rpm'].astype(float)"
   ]
  },
  {
   "cell_type": "code",
   "execution_count": null,
   "id": "11531d93",
   "metadata": {},
   "outputs": [],
   "source": [
    "df['peak-rpm'].mean()"
   ]
  },
  {
   "cell_type": "code",
   "execution_count": null,
   "id": "43257637",
   "metadata": {},
   "outputs": [],
   "source": [
    "df['peak-rpm'].median()"
   ]
  },
  {
   "cell_type": "code",
   "execution_count": null,
   "id": "430e3617",
   "metadata": {},
   "outputs": [],
   "source": [
    "df['peak-rpm'].mode()"
   ]
  },
  {
   "cell_type": "code",
   "execution_count": null,
   "id": "d2b58a82",
   "metadata": {},
   "outputs": [],
   "source": [
    "df['price'].value_counts()"
   ]
  },
  {
   "cell_type": "code",
   "execution_count": null,
   "id": "0ae75178",
   "metadata": {},
   "outputs": [],
   "source": [
    " df['price'] =df['price'].astype(float)"
   ]
  },
  {
   "cell_type": "code",
   "execution_count": null,
   "id": "ec6ebe6c",
   "metadata": {},
   "outputs": [],
   "source": [
    "df.info()"
   ]
  },
  {
   "cell_type": "code",
   "execution_count": null,
   "id": "44a9bbe6",
   "metadata": {},
   "outputs": [],
   "source": []
  },
  {
   "cell_type": "code",
   "execution_count": null,
   "id": "07a002e3",
   "metadata": {},
   "outputs": [],
   "source": [
    "df['normalized-losses'].isna().sum()"
   ]
  },
  {
   "cell_type": "code",
   "execution_count": null,
   "id": "35708009",
   "metadata": {},
   "outputs": [],
   "source": [
    "df['normalized-losses']"
   ]
  },
  {
   "cell_type": "code",
   "execution_count": null,
   "id": "7a39ca5d",
   "metadata": {},
   "outputs": [],
   "source": [
    "knn_imputer = KNNImputer(n_neighbors=3)\n",
    "array = knn_imputer.fit_transform(df)"
   ]
  },
  {
   "cell_type": "code",
   "execution_count": null,
   "id": "aab72e1b",
   "metadata": {},
   "outputs": [],
   "source": [
    "df"
   ]
  },
  {
   "cell_type": "code",
   "execution_count": null,
   "id": "a69314c9",
   "metadata": {},
   "outputs": [],
   "source": [
    "df = pd.DataFrame(array,columns  = df.columns)"
   ]
  },
  {
   "cell_type": "code",
   "execution_count": null,
   "id": "51633f51",
   "metadata": {},
   "outputs": [],
   "source": [
    "df1 = df"
   ]
  },
  {
   "cell_type": "code",
   "execution_count": null,
   "id": "c6f30186",
   "metadata": {},
   "outputs": [],
   "source": [
    "df1"
   ]
  },
  {
   "cell_type": "code",
   "execution_count": null,
   "id": "d50ab40d",
   "metadata": {},
   "outputs": [],
   "source": [
    "df1.describe()"
   ]
  },
  {
   "cell_type": "code",
   "execution_count": null,
   "id": "b83d858d",
   "metadata": {},
   "outputs": [],
   "source": [
    "df1.info()"
   ]
  },
  {
   "cell_type": "code",
   "execution_count": null,
   "id": "3b2cc29e",
   "metadata": {},
   "outputs": [],
   "source": [
    "# continuous ->normalized-losses,wheel-base,length,width,height,curb-weight ,engine-type, bore,stroke,compression-ratio,\n",
    "# horsepower,peak-rpm,city-mpg ,highway-mpg\n",
    "# categorical ->symboling,make,fuel-type,aspiration,num-of-doors,body-style,engine-location,body-style,drive-wheels,\n",
    "# engine-location,engine-type,num-of-cylinders,fuel-system"
   ]
  },
  {
   "cell_type": "markdown",
   "id": "f2041fd1",
   "metadata": {},
   "source": [
    "# Splitting Data"
   ]
  },
  {
   "cell_type": "code",
   "execution_count": null,
   "id": "72d7641b",
   "metadata": {},
   "outputs": [],
   "source": [
    "x = df1.drop('price',axis = 1)\n",
    "y = df1['price']"
   ]
  },
  {
   "cell_type": "code",
   "execution_count": null,
   "id": "e846fe7a",
   "metadata": {},
   "outputs": [],
   "source": [
    "x_train,x_test,y_train,y_test = train_test_split(x,y,test_size=0.20,random_state=11)\n"
   ]
  },
  {
   "cell_type": "code",
   "execution_count": null,
   "id": "80ac03a4",
   "metadata": {},
   "outputs": [],
   "source": [
    "x_train"
   ]
  },
  {
   "cell_type": "code",
   "execution_count": null,
   "id": "8ae67c91",
   "metadata": {},
   "outputs": [],
   "source": [
    "lin_reg = LinearRegression()\n",
    "lin_reg.fit(x_train,y_train)"
   ]
  },
  {
   "cell_type": "code",
   "execution_count": null,
   "id": "42095ed4",
   "metadata": {},
   "outputs": [],
   "source": [
    "y_pred = lin_reg.predict(x_test)\n",
    "\n",
    "y_pred[20:30]"
   ]
  },
  {
   "cell_type": "code",
   "execution_count": null,
   "id": "de503dcf",
   "metadata": {},
   "outputs": [],
   "source": [
    "y_test[20:30]"
   ]
  },
  {
   "cell_type": "code",
   "execution_count": null,
   "id": "0a17236c",
   "metadata": {},
   "outputs": [],
   "source": [
    "# testing data accuracy\n",
    "\n",
    "mse = mean_squared_error(y_test,y_pred)\n",
    "print(\"MSE\\n\",mse)\n",
    "print(\"*\"*50)\n",
    "\n",
    "rmse = np.sqrt(mse)\n",
    "print(\"RMSE\\n\",rmse)\n",
    "print(\"*\"*50)\n",
    "\n",
    "mae = mean_absolute_error(y_test,y_pred)\n",
    "print(\"MAE\\n\",mae)\n",
    "print(\"*\"*50)\n",
    "\n",
    "r2_val = r2_score(y_test,y_pred)\n",
    "print(\"R2scored\\n\",r2_val)\n",
    "print(\"*\"*50)"
   ]
  },
  {
   "cell_type": "code",
   "execution_count": null,
   "id": "39c402e3",
   "metadata": {},
   "outputs": [],
   "source": [
    "# trainging data accuracy\n",
    "y_pred_train = lin_reg.predict(x_train)\n",
    "\n",
    "mse = mean_squared_error(y_train,y_pred_train)\n",
    "print(\"MSE\\n\",mse)\n",
    "print(\"*\"*50)\n",
    "\n",
    "rmse = np.sqrt(mse)\n",
    "print(\"RMSE\\n\",rmse)\n",
    "print(\"*\"*50)\n",
    "\n",
    "mae = mean_absolute_error(y_train,y_pred_train)\n",
    "print(\"MAE\\n\",mae)\n",
    "print(\"*\"*50)\n",
    "\n",
    "r2_val = r2_score(y_train,y_pred_train)\n",
    "print(\"R2scored\\n\",r2_val)\n",
    "print(\"*\"*50)"
   ]
  },
  {
   "cell_type": "markdown",
   "id": "e09111f0",
   "metadata": {},
   "source": [
    "# model is overfitting"
   ]
  },
  {
   "cell_type": "markdown",
   "id": "5c2e48f6",
   "metadata": {},
   "source": [
    "## we use normalization and standerdization"
   ]
  },
  {
   "cell_type": "code",
   "execution_count": null,
   "id": "524350cc",
   "metadata": {},
   "outputs": [],
   "source": [
    "\n",
    "#check outliers and treatment\n",
    "# feature selection\n",
    "# stad /normalization\n",
    "# train_test_split\n",
    "# regularization"
   ]
  },
  {
   "cell_type": "markdown",
   "id": "4e2c45ab",
   "metadata": {},
   "source": [
    "# check outliers using IQR Method"
   ]
  },
  {
   "cell_type": "code",
   "execution_count": null,
   "id": "98e3d1a6",
   "metadata": {},
   "outputs": [],
   "source": [
    "df1[['normalized-losses']].boxplot()"
   ]
  },
  {
   "cell_type": "code",
   "execution_count": null,
   "id": "d553d2c8",
   "metadata": {},
   "outputs": [],
   "source": [
    "df1[['wheel-base']].boxplot()"
   ]
  },
  {
   "cell_type": "code",
   "execution_count": null,
   "id": "d7d4f4cc",
   "metadata": {},
   "outputs": [],
   "source": [
    "df1[['length']].boxplot()"
   ]
  },
  {
   "cell_type": "code",
   "execution_count": null,
   "id": "96894a68",
   "metadata": {},
   "outputs": [],
   "source": [
    "sns.boxplot(x = df['width'])"
   ]
  },
  {
   "cell_type": "code",
   "execution_count": null,
   "id": "31e4f882",
   "metadata": {},
   "outputs": [],
   "source": [
    "sns.boxplot(x = df['height'])"
   ]
  },
  {
   "cell_type": "code",
   "execution_count": null,
   "id": "7a8d9bb0",
   "metadata": {},
   "outputs": [],
   "source": [
    "sns.boxplot(x = df['bore'])"
   ]
  },
  {
   "cell_type": "code",
   "execution_count": null,
   "id": "8fa54a59",
   "metadata": {},
   "outputs": [],
   "source": [
    "sns.boxplot(x = df['stroke'])"
   ]
  },
  {
   "cell_type": "code",
   "execution_count": null,
   "id": "dcd3af0d",
   "metadata": {},
   "outputs": [],
   "source": [
    "sns.boxplot(x = df['engine-type'])"
   ]
  },
  {
   "cell_type": "markdown",
   "id": "d546a8b9",
   "metadata": {},
   "source": [
    "#Assumptions of linear regression\n",
    "1.Linearity\n",
    "2.No Multicolinearity (VIF)"
   ]
  },
  {
   "cell_type": "code",
   "execution_count": null,
   "id": "681c6fc8",
   "metadata": {},
   "outputs": [],
   "source": [
    "plt.savefig(\"linerity.png\")\n",
    "sns.pairplot(df1.corr())"
   ]
  },
  {
   "cell_type": "code",
   "execution_count": null,
   "id": "ba5f4fe6",
   "metadata": {},
   "outputs": [],
   "source": [
    "plt.savefig(\"autoset.png\")\n",
    "plt.figure(figsize=(50,50))\n",
    "sns.heatmap(df1.corr(),annot = True)"
   ]
  },
  {
   "cell_type": "code",
   "execution_count": null,
   "id": "8d62932f",
   "metadata": {},
   "outputs": [],
   "source": [
    "df1.to_numpy()"
   ]
  },
  {
   "cell_type": "code",
   "execution_count": null,
   "id": "d914d6fb",
   "metadata": {},
   "outputs": [],
   "source": [
    "VIF_list =[]\n",
    "\n",
    "for i in range(x.shape[1]):\n",
    "    vif = variance_inflation_factor(x.values,i)\n",
    "    VIF_list.append(vif)\n",
    "    \n",
    "VIF_list    "
   ]
  },
  {
   "cell_type": "code",
   "execution_count": null,
   "id": "29ad4d7f",
   "metadata": {},
   "outputs": [],
   "source": [
    "s1 = pd.Series(VIF_list,index=x.columns)\n",
    "s1.sort_values()"
   ]
  },
  {
   "cell_type": "code",
   "execution_count": null,
   "id": "9bef7269",
   "metadata": {},
   "outputs": [],
   "source": [
    "s1 = pd.Series(VIF_list,index=df1.columns)\n",
    "s1.sort_values().plot(kind = \"barh\")"
   ]
  },
  {
   "cell_type": "code",
   "execution_count": null,
   "id": "24f10088",
   "metadata": {},
   "outputs": [],
   "source": [
    "df2 = df1.drop(['drive-wheels','make','body-style','fuel-system','engine-type','symboling','aspiration','num-of-doors'],axis = 1)"
   ]
  },
  {
   "cell_type": "code",
   "execution_count": null,
   "id": "6f071753",
   "metadata": {},
   "outputs": [],
   "source": [
    "df2"
   ]
  },
  {
   "cell_type": "code",
   "execution_count": null,
   "id": "947cf68a",
   "metadata": {},
   "outputs": [],
   "source": [
    "x1 = df2.drop('price',axis = 1)\n",
    "y1 = df2['price']"
   ]
  },
  {
   "cell_type": "code",
   "execution_count": null,
   "id": "d8b2fcd9",
   "metadata": {},
   "outputs": [],
   "source": [
    "x_train,x_test,y_train,y_test = train_test_split(x1,y1,test_size=0.20,random_state=11)"
   ]
  },
  {
   "cell_type": "code",
   "execution_count": null,
   "id": "a536f698",
   "metadata": {},
   "outputs": [],
   "source": [
    "lin_reg2 = LinearRegression()\n",
    "lin_reg2.fit(x_train,y_train)"
   ]
  },
  {
   "cell_type": "code",
   "execution_count": null,
   "id": "101d9390",
   "metadata": {},
   "outputs": [],
   "source": [
    "y_pred = lin_reg2.predict(x_test)"
   ]
  },
  {
   "cell_type": "code",
   "execution_count": null,
   "id": "32a520bd",
   "metadata": {},
   "outputs": [],
   "source": [
    "y_pred[10:15]"
   ]
  },
  {
   "cell_type": "code",
   "execution_count": null,
   "id": "9d65a1d2",
   "metadata": {},
   "outputs": [],
   "source": [
    "y_test[10:15]"
   ]
  },
  {
   "cell_type": "code",
   "execution_count": null,
   "id": "aa40b9e7",
   "metadata": {},
   "outputs": [],
   "source": [
    "# testing data accuracy\n",
    "\n",
    "mse = mean_squared_error(y_test,y_pred)\n",
    "print(\"MSE\\n\",mse)\n",
    "print(\"*\"*60)\n",
    "\n",
    "rmse = np.sqrt(mse)\n",
    "print(\"RMSE\\n\",rmse)\n",
    "print(\"*\"*60)\n",
    "\n",
    "mae = mean_absolute_error(y_test,y_pred)\n",
    "print(\"MAE\\n\",mae)\n",
    "print(\"*\"*60)\n",
    "\n",
    "r2_val = r2_score(y_test,y_pred)\n",
    "print(\"r2 squred\\n\",r2_val)\n",
    "print(\"*\"*60)"
   ]
  },
  {
   "cell_type": "code",
   "execution_count": null,
   "id": "f356c3f6",
   "metadata": {},
   "outputs": [],
   "source": [
    "# training data accuracy\n",
    "y_pred_train = lin_reg2.predict(x_train)\n",
    "    \n",
    "mse = mean_squared_error(y_train,y_pred_train)\n",
    "print(\"MSE\\n\",mse)\n",
    "print(\"*\"*60)\n",
    "\n",
    "rmse = np.sqrt(mse)\n",
    "print(\"RMSE\\n\",rmse)\n",
    "print(\"*\"*60)\n",
    "\n",
    "mae = mean_absolute_error(y_train,y_pred_train)\n",
    "print(\"MAE\\n\",mae)\n",
    "print(\"*\"*60)\n",
    "\n",
    "r2_val = r2_score(y_train,y_pred_train)\n",
    "print(\"r2 squred\\n\",r2_val)\n",
    "print(\"*\"*60)"
   ]
  },
  {
   "cell_type": "markdown",
   "id": "6ab2ca18",
   "metadata": {},
   "source": [
    "# Normalization"
   ]
  },
  {
   "cell_type": "code",
   "execution_count": null,
   "id": "a4443ec8",
   "metadata": {},
   "outputs": [],
   "source": [
    "normal_scalar = MinMaxScaler()\n",
    "normal_scalar.fit(x_train) # we are storing minimum and maximum values\n",
    "array = normal_scalar.transform(x_train)\n",
    "\n",
    "normal_train_xdf = pd.DataFrame(array,columns =x_train.columns )\n",
    "normal_train_xdf.head(3)"
   ]
  },
  {
   "cell_type": "code",
   "execution_count": null,
   "id": "21632f88",
   "metadata": {},
   "outputs": [],
   "source": [
    "lin_reg2 = LinearRegression()\n",
    "lin_reg2.fit(normal_train_xdf,y_train)"
   ]
  },
  {
   "cell_type": "code",
   "execution_count": null,
   "id": "c80283d8",
   "metadata": {},
   "outputs": [],
   "source": [
    "# training data accuracy\n",
    "y_pred_train = lin_reg2.predict(normal_train_xdf)\n",
    "    \n",
    "mse = mean_squared_error(y_train,y_pred_train)\n",
    "print(\"MSE\\n\",mse)\n",
    "print(\"*\"*60)\n",
    "\n",
    "rmse = np.sqrt(mse)\n",
    "print(\"RMSE\\n\",rmse)\n",
    "print(\"*\"*60)\n",
    "\n",
    "mae = mean_absolute_error(y_train,y_pred_train)\n",
    "print(\"MAE\\n\",mae)\n",
    "print(\"*\"*60)\n",
    "\n",
    "r2_val = r2_score(y_train,y_pred_train)\n",
    "print(\"r2 squred\\n\",r2_val)\n",
    "print(\"*\"*60)"
   ]
  },
  {
   "cell_type": "code",
   "execution_count": null,
   "id": "9890a8a1",
   "metadata": {},
   "outputs": [],
   "source": [
    "array = normal_scalar.transform(x_test)\n",
    "\n",
    "normal_test_df = pd.DataFrame(array,columns = x_test.columns)\n",
    "normal_test_df.head(3)"
   ]
  },
  {
   "cell_type": "code",
   "execution_count": null,
   "id": "6d6efc2e",
   "metadata": {},
   "outputs": [],
   "source": [
    "# testing data accuracy\n",
    "y_pred = lin_reg2.predict(normal_test_df)\n",
    "\n",
    "mse = mean_squared_error(y_test,y_pred)\n",
    "print(\"MSE\\n\",mse)\n",
    "print(\"*\"*60)\n",
    "\n",
    "rmse = np.sqrt(mse)\n",
    "print(\"RMSE\\n\",rmse)\n",
    "print(\"*\"*60)\n",
    "\n",
    "mae = mean_absolute_error(y_test,y_pred)\n",
    "print(\"MAE\\n\",mae)\n",
    "print(\"*\"*60)\n",
    "\n",
    "r2_val = r2_score(y_test,y_pred)\n",
    "print(\"r2 squred\\n\",r2_val)\n",
    "print(\"*\"*60)"
   ]
  },
  {
   "cell_type": "code",
   "execution_count": null,
   "id": "b9fcdecb",
   "metadata": {},
   "outputs": [],
   "source": [
    "# trying to if model name is affecting"
   ]
  },
  {
   "cell_type": "code",
   "execution_count": null,
   "id": "cc9e5d28",
   "metadata": {},
   "outputs": [],
   "source": [
    "normal_scalar1 = MinMaxScaler()\n",
    "normal_scalar1.fit(x_train) # we are storing minimum and maximum values\n",
    "array1 = normal_scalar.transform(x_train)\n",
    "\n",
    "normal_train_xdf1 = pd.DataFrame(array1,columns =x_train.columns )\n",
    "normal_train_xdf1.head(3)"
   ]
  },
  {
   "cell_type": "code",
   "execution_count": null,
   "id": "f819e4b1",
   "metadata": {},
   "outputs": [],
   "source": [
    "lin_reg3 = LinearRegression()\n",
    "lin_reg3.fit(normal_train_xdf1,y_train)"
   ]
  },
  {
   "cell_type": "code",
   "execution_count": null,
   "id": "e325ae9c",
   "metadata": {},
   "outputs": [],
   "source": [
    "# training data accuracy\n",
    "y_pred_train = lin_reg3.predict(normal_train_xdf1)\n",
    "    \n",
    "mse = mean_squared_error(y_train,y_pred_train)\n",
    "print(\"MSE\\n\",mse)\n",
    "print(\"*\"*60)\n",
    "\n",
    "rmse = np.sqrt(mse)\n",
    "print(\"RMSE\\n\",rmse)\n",
    "print(\"*\"*60)\n",
    "\n",
    "mae = mean_absolute_error(y_train,y_pred_train)\n",
    "print(\"MAE\\n\",mae)\n",
    "print(\"*\"*60)\n",
    "\n",
    "r2_val = r2_score(y_train,y_pred_train)\n",
    "print(\"r2 squred\\n\",r2_val)\n",
    "print(\"*\"*60)"
   ]
  },
  {
   "cell_type": "code",
   "execution_count": null,
   "id": "12b317b7",
   "metadata": {},
   "outputs": [],
   "source": [
    "array2 = normal_scalar.transform(x_test)\n",
    "\n",
    "normal_test_df1 = pd.DataFrame(array2,columns = x_test.columns)\n",
    "normal_test_df1.head(3)"
   ]
  },
  {
   "cell_type": "code",
   "execution_count": null,
   "id": "3860a717",
   "metadata": {},
   "outputs": [],
   "source": [
    "# testing data accuracy\n",
    "y_pred = lin_reg3.predict(normal_test_df1)\n",
    "\n",
    "mse = mean_squared_error(y_test,y_pred)\n",
    "print(\"MSE\\n\",mse)\n",
    "print(\"*\"*60)\n",
    "\n",
    "rmse = np.sqrt(mse)\n",
    "print(\"RMSE\\n\",rmse)\n",
    "print(\"*\"*60)\n",
    "\n",
    "mae = mean_absolute_error(y_test,y_pred)\n",
    "print(\"MAE\\n\",mae)\n",
    "print(\"*\"*60)\n",
    "\n",
    "r2_val = r2_score(y_test,y_pred)\n",
    "print(\"r2 squred\\n\",r2_val)\n",
    "print(\"*\"*60)"
   ]
  },
  {
   "cell_type": "markdown",
   "id": "0640f339",
   "metadata": {},
   "source": [
    "# Hyperparameter Tuning"
   ]
  },
  {
   "cell_type": "code",
   "execution_count": null,
   "id": "c98db633",
   "metadata": {},
   "outputs": [],
   "source": [
    "a1 = np.arange(0.01,1,0.01)\n",
    "a2 = np.arange(1,50)\n",
    "alpha_array = np.append(a1,a2)\n",
    "alpha_array"
   ]
  },
  {
   "cell_type": "code",
   "execution_count": null,
   "id": "bab77b43",
   "metadata": {},
   "outputs": [],
   "source": [
    "lasso_model = Lasso()\n",
    "param_grid = {\"alpha\":alpha_array}\n",
    "gscv_lasso_model = GridSearchCV(lasso_model,param_grid, cv = 5)\n",
    "gscv_lasso_model.fit(x_train,y_train)"
   ]
  },
  {
   "cell_type": "code",
   "execution_count": null,
   "id": "ab4b0663",
   "metadata": {},
   "outputs": [],
   "source": [
    "gscv_lasso_model.best_estimator_"
   ]
  },
  {
   "cell_type": "code",
   "execution_count": null,
   "id": "6d2bd9ce",
   "metadata": {},
   "outputs": [],
   "source": [
    "lasso_model = Lasso(alpha=0.01)\n",
    "lasso_model.fit(x_train,y_train)"
   ]
  },
  {
   "cell_type": "code",
   "execution_count": null,
   "id": "bde06e30",
   "metadata": {},
   "outputs": [],
   "source": [
    "# testing data accuracy\n",
    "\n",
    "y_pred =lasso_model.predict(x_test)\n",
    "mse = mean_squared_error(y_test,y_pred)\n",
    "print(\"MSE\\n\",mse)\n",
    "print(\"*\"*60)\n",
    "\n",
    "rmse = np.sqrt(mse)\n",
    "print(\"RMSE\\n\",rmse)\n",
    "print(\"*\"*60)\n",
    "\n",
    "mae = mean_absolute_error(y_test,y_pred)\n",
    "print(\"MAE\\n\",mae)\n",
    "print(\"*\"*60)\n",
    "\n",
    "r2_val = r2_score(y_test,y_pred)\n",
    "print(\"r2 squred\\n\",r2_val)\n",
    "print(\"*\"*60)"
   ]
  },
  {
   "cell_type": "code",
   "execution_count": null,
   "id": "9a04d566",
   "metadata": {},
   "outputs": [],
   "source": [
    "# training data accuracy\n",
    "y_pred_train = lasso_model.predict(x_train)\n",
    "    \n",
    "mse = mean_squared_error(y_train,y_pred_train)\n",
    "print(\"MSE\\n\",mse)\n",
    "print(\"*\"*60)\n",
    "\n",
    "rmse = np.sqrt(mse)\n",
    "print(\"RMSE\\n\",rmse)\n",
    "print(\"*\"*60)\n",
    "\n",
    "mae = mean_absolute_error(y_train,y_pred_train)\n",
    "print(\"MAE\\n\",mae)\n",
    "print(\"*\"*60)\n",
    "\n",
    "r2_val = r2_score(y_train,y_pred_train)\n",
    "print(\"r2 squred\\n\",r2_val)\n",
    "print(\"*\"*60)"
   ]
  },
  {
   "cell_type": "code",
   "execution_count": null,
   "id": "f9edfb01",
   "metadata": {},
   "outputs": [],
   "source": [
    "ridge_model = Ridge()\n",
    "param_grid = {\"alpha\":alpha_array}\n",
    "gscv_ridge_model = GridSearchCV(ridge_model,param_grid, cv = 5)\n",
    "gscv_ridge_model.fit(x_train,y_train)\n",
    "gscv_ridge_model.best_estimator_"
   ]
  },
  {
   "cell_type": "code",
   "execution_count": null,
   "id": "e2ccab93",
   "metadata": {},
   "outputs": [],
   "source": [
    "Ridge_model = Ridge(alpha=0.01)\n",
    "Ridge_model.fit(x_train,y_train)"
   ]
  },
  {
   "cell_type": "code",
   "execution_count": null,
   "id": "6c0ee5cf",
   "metadata": {},
   "outputs": [],
   "source": [
    "Ridge_model = Ridge(alpha=0.01)\n",
    "Ridge_model.fit(x_train,y_train)"
   ]
  },
  {
   "cell_type": "code",
   "execution_count": null,
   "id": "4a12afca",
   "metadata": {},
   "outputs": [],
   "source": [
    "# testing data accuracy\n",
    "\n",
    "y_pred =Ridge_model.predict(x_test)\n",
    "mse = mean_squared_error(y_test,y_pred)\n",
    "print(\"MSE\\n\",mse)\n",
    "print(\"*\"*60)\n",
    "\n",
    "rmse = np.sqrt(mse)\n",
    "print(\"RMSE\\n\",rmse)\n",
    "print(\"*\"*60)\n",
    "\n",
    "mae = mean_absolute_error(y_test,y_pred)\n",
    "print(\"MAE\\n\",mae)\n",
    "print(\"*\"*60)\n",
    "\n",
    "r2_val = r2_score(y_test,y_pred)\n",
    "print(\"r2 squred\\n\",r2_val)\n",
    "print(\"*\"*60)"
   ]
  },
  {
   "cell_type": "code",
   "execution_count": null,
   "id": "e42d1ba2",
   "metadata": {},
   "outputs": [],
   "source": [
    "# training data accuracy\n",
    "y_pred_train = Ridge_model.predict(x_train)\n",
    "    \n",
    "mse = mean_squared_error(y_train,y_pred_train)\n",
    "print(\"MSE\\n\",mse)\n",
    "print(\"*\"*60)\n",
    "\n",
    "rmse = np.sqrt(mse)\n",
    "print(\"RMSE\\n\",rmse)\n",
    "print(\"*\"*60)\n",
    "\n",
    "mae = mean_absolute_error(y_train,y_pred_train)\n",
    "print(\"MAE\\n\",mae)\n",
    "print(\"*\"*60)\n",
    "\n",
    "r2_val = r2_score(y_train,y_pred_train)\n",
    "print(\"r2 squred\\n\",r2_val)\n",
    "print(\"*\"*60)"
   ]
  },
  {
   "cell_type": "markdown",
   "id": "b1189a70",
   "metadata": {},
   "source": [
    "# New VIF"
   ]
  },
  {
   "cell_type": "code",
   "execution_count": null,
   "id": "6e6b8532",
   "metadata": {},
   "outputs": [],
   "source": [
    "x1.values"
   ]
  },
  {
   "cell_type": "code",
   "execution_count": null,
   "id": "2796199d",
   "metadata": {},
   "outputs": [],
   "source": [
    "VIF_list =[]\n",
    "\n",
    "for i in range(x1.shape[1]):\n",
    "    vif = variance_inflation_factor(x1.values,i)\n",
    "    VIF_list.append(vif)\n",
    "    \n",
    "VIF_list    "
   ]
  },
  {
   "cell_type": "code",
   "execution_count": null,
   "id": "51daed9a",
   "metadata": {},
   "outputs": [],
   "source": [
    "s1 = pd.Series(VIF_list,index=x1.columns)\n",
    "s1.sort_values()"
   ]
  },
  {
   "cell_type": "markdown",
   "id": "fdbc06f2",
   "metadata": {},
   "source": [
    "# KNN_Regresion"
   ]
  },
  {
   "cell_type": "code",
   "execution_count": null,
   "id": "cf507763",
   "metadata": {},
   "outputs": [],
   "source": [
    "df"
   ]
  },
  {
   "cell_type": "code",
   "execution_count": null,
   "id": "9d0b3b37",
   "metadata": {},
   "outputs": [],
   "source": [
    "x = df.drop('price',axis = 1)\n",
    "y = df['price']\n",
    "x"
   ]
  },
  {
   "cell_type": "code",
   "execution_count": null,
   "id": "7b40a701",
   "metadata": {},
   "outputs": [],
   "source": [
    "x_train,x_test,y_train,y_test = train_test_split(x,y,test_size=0.24,random_state=11)\n"
   ]
  },
  {
   "cell_type": "code",
   "execution_count": null,
   "id": "e592ed81",
   "metadata": {},
   "outputs": [],
   "source": [
    "knn_model = KNeighborsRegressor()\n",
    "knn_model.fit(x_train,y_train)"
   ]
  },
  {
   "cell_type": "code",
   "execution_count": null,
   "id": "acd013b9",
   "metadata": {},
   "outputs": [],
   "source": []
  },
  {
   "cell_type": "code",
   "execution_count": null,
   "id": "b14397e7",
   "metadata": {},
   "outputs": [],
   "source": [
    "y_pred = knn_model.predict(x_test)"
   ]
  },
  {
   "cell_type": "code",
   "execution_count": null,
   "id": "57a1f8aa",
   "metadata": {},
   "outputs": [],
   "source": [
    "y_pred[20:25]"
   ]
  },
  {
   "cell_type": "code",
   "execution_count": null,
   "id": "24636c12",
   "metadata": {},
   "outputs": [],
   "source": [
    "y_test[20:25]"
   ]
  },
  {
   "cell_type": "code",
   "execution_count": null,
   "id": "f0b6b380",
   "metadata": {},
   "outputs": [],
   "source": [
    "# testing accuracy\n",
    "y_pred = knn_model.predict(x_test)\n",
    "mse = mean_squared_error(y_test,y_pred)\n",
    "print(\"MSE\\n\",mse)\n",
    "print(\"*\"*60)\n",
    "\n",
    "rmse = np.sqrt(mse)\n",
    "print(\"RMSE\\n\",rmse)\n",
    "print(\"*\"*60)\n",
    "\n",
    "mae = mean_absolute_error(y_test,y_pred)\n",
    "print(\"MAE\\n\",mae)\n",
    "print(\"*\"*60)\n",
    "\n",
    "r2_val = r2_score(y_test,y_pred)\n",
    "print(\"r2 squred\\n\",r2_val)\n",
    "print(\"*\"*60)"
   ]
  },
  {
   "cell_type": "code",
   "execution_count": null,
   "id": "4cebc441",
   "metadata": {},
   "outputs": [],
   "source": [
    "# training data accuracy\n",
    "y_pred_train = knn_model.predict(x_train)\n",
    "    \n",
    "mse = mean_squared_error(y_train,y_pred_train)\n",
    "print(\"MSE\\n\",mse)\n",
    "print(\"*\"*60)\n",
    "\n",
    "rmse = np.sqrt(mse)\n",
    "print(\"RMSE\\n\",rmse)\n",
    "print(\"*\"*60)\n",
    "\n",
    "mae = mean_absolute_error(y_train,y_pred_train)\n",
    "print(\"MAE\\n\",mae)\n",
    "print(\"*\"*60)\n",
    "\n",
    "r2_val = r2_score(y_train,y_pred_train)\n",
    "print(\"r2 squred\\n\",r2_val)\n",
    "print(\"*\"*60)"
   ]
  },
  {
   "cell_type": "markdown",
   "id": "b6df2e52",
   "metadata": {},
   "source": [
    "# find best value for k"
   ]
  },
  {
   "cell_type": "code",
   "execution_count": null,
   "id": "bba3fbfe",
   "metadata": {},
   "outputs": [],
   "source": [
    "r2_train_list = []\n",
    "r2_test_list = []\n",
    "k_values = range(2,21)\n",
    "for k in k_values:\n",
    "    knn_reg = KNeighborsRegressor(n_neighbors=k,p=1)\n",
    "    knn_reg.fit(x_train,y_train)\n",
    "    r2_train = knn_reg.score(x_train,y_train)\n",
    "    r2_train_list.append(r2_train)\n",
    "    \n",
    "    r2_test = knn_reg.score(x_test,y_test)\n",
    "    r2_test_list.append(r2_test)\n",
    "    \n",
    "print(\"r2_train_list:\\n\",r2_train_list )\n",
    "print()\n",
    "print(\"r2_test_list:\\n\",r2_test_list)\n",
    "\n",
    "\n",
    "plt.figure(figsize=(20,10))\n",
    "plt.plot(k_values,r2_train_list)\n",
    "plt.plot(k_values,r2_test_list)\n",
    "plt.xlabel(\"K vales\")\n",
    "plt.ylabel(\"Accuracy\")\n",
    "plt.title(\"Comparison between Train and Test Accuuracies\")\n",
    "plt.savefig(\"K values comparision.jpeg\")"
   ]
  },
  {
   "cell_type": "raw",
   "id": "358c5682",
   "metadata": {},
   "source": [
    "k=5,p=1"
   ]
  },
  {
   "cell_type": "code",
   "execution_count": null,
   "id": "e02687da",
   "metadata": {},
   "outputs": [],
   "source": [
    "knn_model = KNeighborsRegressor(n_neighbors=5,p=1)\n",
    "knn_model.fit(x_train,y_train)"
   ]
  },
  {
   "cell_type": "code",
   "execution_count": null,
   "id": "98a0c49b",
   "metadata": {},
   "outputs": [],
   "source": [
    "# testing accuracy\n",
    "y_pred = knn_model.predict(x_test)\n",
    "mse = mean_squared_error(y_test,y_pred)\n",
    "print(\"MSE\\n\",mse)\n",
    "print(\"*\"*60)\n",
    "\n",
    "rmse = np.sqrt(mse)\n",
    "print(\"RMSE\\n\",rmse)\n",
    "print(\"*\"*60)\n",
    "\n",
    "mae = mean_absolute_error(y_test,y_pred)\n",
    "print(\"MAE\\n\",mae)\n",
    "print(\"*\"*60)\n",
    "\n",
    "r2_val = r2_score(y_test,y_pred)\n",
    "print(\"r2 squred\\n\",r2_val)\n",
    "print(\"*\"*60)"
   ]
  },
  {
   "cell_type": "code",
   "execution_count": null,
   "id": "886a6d47",
   "metadata": {},
   "outputs": [],
   "source": [
    "# training data accuracy\n",
    "y_pred_train = knn_model.predict(x_train)\n",
    "    \n",
    "mse = mean_squared_error(y_train,y_pred_train)\n",
    "print(\"MSE\\n\",mse)\n",
    "print(\"*\"*60)\n",
    "\n",
    "rmse = np.sqrt(mse)\n",
    "print(\"RMSE\\n\",rmse)\n",
    "print(\"*\"*60)\n",
    "\n",
    "mae = mean_absolute_error(y_train,y_pred_train)\n",
    "print(\"MAE\\n\",mae)\n",
    "print(\"*\"*60)\n",
    "\n",
    "r2_val = r2_score(y_train,y_pred_train)\n",
    "print(\"r2 squred\\n\",r2_val)\n",
    "print(\"*\"*60)"
   ]
  },
  {
   "cell_type": "markdown",
   "id": "cbc792d1",
   "metadata": {},
   "source": [
    "k=6,p=2"
   ]
  },
  {
   "cell_type": "code",
   "execution_count": null,
   "id": "0731fcf7",
   "metadata": {},
   "outputs": [],
   "source": [
    "knn_model = KNeighborsRegressor(n_neighbors=6,p=2)\n",
    "knn_model.fit(x_train,y_train)"
   ]
  },
  {
   "cell_type": "code",
   "execution_count": null,
   "id": "312f9328",
   "metadata": {},
   "outputs": [],
   "source": [
    "# testing accuracy\n",
    "y_pred = knn_model.predict(x_test)\n",
    "mse = mean_squared_error(y_test,y_pred)\n",
    "print(\"MSE\\n\",mse)\n",
    "print(\"*\"*60)\n",
    "\n",
    "rmse = np.sqrt(mse)\n",
    "print(\"RMSE\\n\",rmse)\n",
    "print(\"*\"*60)\n",
    "\n",
    "mae = mean_absolute_error(y_test,y_pred)\n",
    "print(\"MAE\\n\",mae)\n",
    "print(\"*\"*60)\n",
    "\n",
    "r2_val = r2_score(y_test,y_pred)\n",
    "print(\"r2 squred\\n\",r2_val)\n",
    "print(\"*\"*60)"
   ]
  },
  {
   "cell_type": "code",
   "execution_count": null,
   "id": "8d016374",
   "metadata": {},
   "outputs": [],
   "source": [
    "# training data accuracy\n",
    "y_pred_train = knn_model.predict(x_train)\n",
    "    \n",
    "mse = mean_squared_error(y_train,y_pred_train)\n",
    "print(\"MSE\\n\",mse)\n",
    "print(\"*\"*60)\n",
    "\n",
    "rmse = np.sqrt(mse)\n",
    "print(\"RMSE\\n\",rmse)\n",
    "print(\"*\"*60)\n",
    "\n",
    "mae = mean_absolute_error(y_train,y_pred_train)\n",
    "print(\"MAE\\n\",mae)\n",
    "print(\"*\"*60)\n",
    "\n",
    "r2_val = r2_score(y_train,y_pred_train)\n",
    "print(\"r2 squred\\n\",r2_val)\n",
    "print(\"*\"*60)"
   ]
  },
  {
   "cell_type": "markdown",
   "id": "6fd737bf",
   "metadata": {},
   "source": [
    "# Normalization"
   ]
  },
  {
   "cell_type": "code",
   "execution_count": null,
   "id": "baf85ff5",
   "metadata": {},
   "outputs": [],
   "source": [
    "normal_scaler = MinMaxScaler()\n",
    "normal_scaler.fit(x_train)\n",
    "array = normal_scalar.transform(x_train)\n",
    "\n",
    "nr_train_df = pd.DataFrame(array,columns = x_train.columns)\n",
    "nr_train_df.head()"
   ]
  },
  {
   "cell_type": "code",
   "execution_count": null,
   "id": "f1dfd496",
   "metadata": {},
   "outputs": [],
   "source": [
    "knn_model_nor = KNeighborsRegressor()\n",
    "knn_model_nor.fit(nr_train_df,y_train)"
   ]
  },
  {
   "cell_type": "code",
   "execution_count": null,
   "id": "80cc4388",
   "metadata": {},
   "outputs": [],
   "source": [
    "# training data accuracy\n",
    "y_pred_train = knn_model_nor.predict(nr_train_df)\n",
    "    \n",
    "mse = mean_squared_error(y_train,y_pred_train)\n",
    "print(\"MSE\\n\",mse)\n",
    "print(\"*\"*60)\n",
    "\n",
    "rmse = np.sqrt(mse)\n",
    "print(\"RMSE\\n\",rmse)\n",
    "print(\"*\"*60)\n",
    "\n",
    "mae = mean_absolute_error(y_train,y_pred_train)\n",
    "print(\"MAE\\n\",mae)\n",
    "print(\"*\"*60)\n",
    "\n",
    "r2_val = r2_score(y_train,y_pred_train)\n",
    "print(\"r2 squred\\n\",r2_val)\n",
    "print(\"*\"*60)"
   ]
  },
  {
   "cell_type": "code",
   "execution_count": null,
   "id": "a7d670d3",
   "metadata": {},
   "outputs": [],
   "source": [
    "array = normal_scalar.transform(x_test)\n",
    "\n",
    "nr_test_df = pd.DataFrame(array,columns = x_test.columns)\n",
    "nr_test_df.head()"
   ]
  },
  {
   "cell_type": "code",
   "execution_count": null,
   "id": "97c1c8a7",
   "metadata": {},
   "outputs": [],
   "source": [
    "# testing accuracy\n",
    "y_pred = knn_model_nor.predict(nr_test_df)\n",
    "mse = mean_squared_error(y_test,y_pred)\n",
    "print(\"MSE\\n\",mse)\n",
    "print(\"*\"*60)\n",
    "\n",
    "rmse = np.sqrt(mse)\n",
    "print(\"RMSE\\n\",rmse)\n",
    "print(\"*\"*60)\n",
    "\n",
    "mae = mean_absolute_error(y_test,y_pred)\n",
    "print(\"MAE\\n\",mae)\n",
    "print(\"*\"*60)\n",
    "\n",
    "r2_val = r2_score(y_test,y_pred)\n",
    "print(\"r2 squred\\n\",r2_val)\n",
    "print(\"*\"*60)"
   ]
  },
  {
   "cell_type": "markdown",
   "id": "099ef7a6",
   "metadata": {},
   "source": [
    "# find best k value using normalization"
   ]
  },
  {
   "cell_type": "code",
   "execution_count": null,
   "id": "ce35a959",
   "metadata": {},
   "outputs": [],
   "source": [
    "r2_train_list = []\n",
    "r2_test_list = []\n",
    "k_values = range(2,21)\n",
    "for k in k_values:\n",
    "    knn_reg = KNeighborsRegressor(n_neighbors=k,p=1)\n",
    "    knn_reg.fit(nr_train_df,y_train)\n",
    "    r2_train = knn_reg.score(nr_train_df,y_train)\n",
    "    r2_train_list.append(r2_train)\n",
    "    \n",
    "    r2_test = knn_reg.score(nr_test_df,y_test)\n",
    "    r2_test_list.append(r2_test)\n",
    "    \n",
    "print(\"r2_train_list:\\n\",r2_train_list )\n",
    "print()\n",
    "print(\"r2_test_list:\\n\",r2_test_list)\n",
    "\n",
    "\n",
    "plt.figure(figsize=(20,10))\n",
    "plt.plot(k_values,r2_train_list)\n",
    "plt.plot(k_values,r2_test_list)\n",
    "plt.xlabel(\"K vales\")\n",
    "plt.ylabel(\"Accuracy\")\n",
    "plt.title(\"Comparison between Train and Test Accuuracies\")\n",
    "plt.savefig(\"K values comparision-nor.jpeg\")"
   ]
  },
  {
   "cell_type": "code",
   "execution_count": null,
   "id": "8f137dd0",
   "metadata": {},
   "outputs": [],
   "source": [
    "k=2,p=1"
   ]
  },
  {
   "cell_type": "code",
   "execution_count": null,
   "id": "28abd2ea",
   "metadata": {},
   "outputs": [],
   "source": [
    "knn_model_nor1 = KNeighborsRegressor(n_neighbors=2,p=1)\n",
    "knn_model_nor1.fit(nr_train_df,y_train)"
   ]
  },
  {
   "cell_type": "code",
   "execution_count": null,
   "id": "cab59d59",
   "metadata": {},
   "outputs": [],
   "source": [
    "# testing accuracy\n",
    "y_pred = knn_model_nor1.predict(nr_test_df)\n",
    "\n",
    "mse = mean_squared_error(y_test,y_pred)\n",
    "print(\"MSE\\n\",mse)\n",
    "print(\"*\"*60)\n",
    "\n",
    "rmse = np.sqrt(mse)\n",
    "print(\"RMSE\\n\",rmse)\n",
    "print(\"*\"*60)\n",
    "\n",
    "mae = mean_absolute_error(y_test,y_pred)\n",
    "print(\"MAE\\n\",mae)\n",
    "print(\"*\"*60)\n",
    "\n",
    "r2_val = r2_score(y_test,y_pred)\n",
    "print(\"r2 squred\\n\",r2_val)\n",
    "print(\"*\"*60)"
   ]
  },
  {
   "cell_type": "code",
   "execution_count": null,
   "id": "0529a272",
   "metadata": {},
   "outputs": [],
   "source": [
    "# training data accuracy\n",
    "y_pred_train = knn_model_nor1.predict(nr_train_df)\n",
    "    \n",
    "mse = mean_squared_error(y_train,y_pred_train)\n",
    "print(\"MSE\\n\",mse)\n",
    "print(\"*\"*60)\n",
    "\n",
    "rmse = np.sqrt(mse)\n",
    "print(\"RMSE\\n\",rmse)\n",
    "print(\"*\"*60)\n",
    "\n",
    "mae = mean_absolute_error(y_train,y_pred_train)\n",
    "print(\"MAE\\n\",mae)\n",
    "print(\"*\"*60)\n",
    "\n",
    "r2_val = r2_score(y_train,y_pred_train)\n",
    "print(\"r2 squred\\n\",r2_val)\n",
    "print(\"*\"*60)"
   ]
  },
  {
   "cell_type": "code",
   "execution_count": null,
   "id": "a71db60b",
   "metadata": {},
   "outputs": [],
   "source": [
    "knn_model_nor1 = KNeighborsRegressor()\n",
    "\n",
    "hyperparameters = {\"n_neighbors\":np.arange(3,30),\n",
    "                  \"p\" : [1,2]}\n",
    "\n",
    "gscv_knn_reg = GridSearchCV(knn_model_nor1,hyperparameters,cv = 3)\n",
    "gscv_knn_reg.fit(nr_train_df,y_train)\n",
    "gscv_knn_reg.best_estimator_"
   ]
  },
  {
   "cell_type": "code",
   "execution_count": null,
   "id": "3dbff373",
   "metadata": {},
   "outputs": [],
   "source": [
    "gscv_knn_reg.best_params_"
   ]
  },
  {
   "cell_type": "code",
   "execution_count": null,
   "id": "85e50c6e",
   "metadata": {},
   "outputs": [],
   "source": [
    "# testing accuracy\n",
    "knn_model_nor1 = gscv_knn_reg.best_estimator_\n",
    "\n",
    "mse = mean_squared_error(y_test,y_pred)\n",
    "print(\"MSE\\n\",mse)\n",
    "print(\"*\"*60)\n",
    "\n",
    "rmse = np.sqrt(mse)\n",
    "print(\"RMSE\\n\",rmse)\n",
    "print(\"*\"*60)\n",
    "\n",
    "mae = mean_absolute_error(y_test,y_pred)\n",
    "print(\"MAE\\n\",mae)\n",
    "print(\"*\"*60)\n",
    "\n",
    "r2_val = r2_score(y_test,y_pred)\n",
    "print(\"r2 squred\\n\",r2_val)\n",
    "print(\"*\"*60)"
   ]
  },
  {
   "cell_type": "code",
   "execution_count": null,
   "id": "67d6d412",
   "metadata": {},
   "outputs": [],
   "source": [
    "# training data accuracy\n",
    "y_pred_train = knn_model_nor1.predict(nr_train_df)\n",
    "    \n",
    "mse = mean_squared_error(y_train,y_pred_train)\n",
    "print(\"MSE\\n\",mse)\n",
    "print(\"*\"*60)\n",
    "\n",
    "rmse = np.sqrt(mse)\n",
    "print(\"RMSE\\n\",rmse)\n",
    "print(\"*\"*60)\n",
    "\n",
    "mae = mean_absolute_error(y_train,y_pred_train)\n",
    "print(\"MAE\\n\",mae)\n",
    "print(\"*\"*60)\n",
    "\n",
    "r2_val = r2_score(y_train,y_pred_train)\n",
    "print(\"r2 squred\\n\",r2_val)\n",
    "print(\"*\"*60)"
   ]
  },
  {
   "cell_type": "markdown",
   "id": "1bb87d5b",
   "metadata": {},
   "source": [
    "# Standerdization"
   ]
  },
  {
   "cell_type": "code",
   "execution_count": null,
   "id": "0497f21c",
   "metadata": {},
   "outputs": [],
   "source": [
    "stand_scalar = StandardScaler()\n",
    "stand_scalar.fit(x_train)\n",
    "array = stand_scalar.transform(x_train)\n",
    "\n",
    "std_train_df = pd.DataFrame(array,columns = x_train.columns)\n",
    "std_train_df.head()"
   ]
  },
  {
   "cell_type": "code",
   "execution_count": null,
   "id": "0b4f5e77",
   "metadata": {},
   "outputs": [],
   "source": [
    "knn_model_std = KNeighborsRegressor()\n",
    "knn_model_std.fit(std_train_df,y_train)"
   ]
  },
  {
   "cell_type": "code",
   "execution_count": null,
   "id": "1bca3805",
   "metadata": {},
   "outputs": [],
   "source": [
    "# training data accuracy\n",
    "y_pred_train = knn_model_std.predict(std_train_df)\n",
    "    \n",
    "mse = mean_squared_error(y_train,y_pred_train)\n",
    "print(\"MSE\\n\",mse)\n",
    "print(\"*\"*60)\n",
    "\n",
    "rmse = np.sqrt(mse)\n",
    "print(\"RMSE\\n\",rmse)\n",
    "print(\"*\"*60)\n",
    "\n",
    "mae = mean_absolute_error(y_train,y_pred_train)\n",
    "print(\"MAE\\n\",mae)\n",
    "print(\"*\"*60)\n",
    "\n",
    "r2_val = r2_score(y_train,y_pred_train)\n",
    "print(\"r2 squred\\n\",r2_val)\n",
    "print(\"*\"*60)"
   ]
  },
  {
   "cell_type": "code",
   "execution_count": null,
   "id": "94ced552",
   "metadata": {},
   "outputs": [],
   "source": [
    "array = stand_scalar.transform(x_test)\n",
    "\n",
    "std_test_df = pd.DataFrame(array,columns = x_test.columns)\n",
    "std_test_df.head()"
   ]
  },
  {
   "cell_type": "code",
   "execution_count": null,
   "id": "ccd32889",
   "metadata": {},
   "outputs": [],
   "source": [
    "# testing accuracy\n",
    "y_pred = knn_model_std.predict(std_test_df)\n",
    "\n",
    "mse = mean_squared_error(y_test,y_pred)\n",
    "print(\"MSE\\n\",mse)\n",
    "print(\"*\"*60)\n",
    "\n",
    "rmse = np.sqrt(mse)\n",
    "print(\"RMSE\\n\",rmse)\n",
    "print(\"*\"*60)\n",
    "\n",
    "mae = mean_absolute_error(y_test,y_pred)\n",
    "print(\"MAE\\n\",mae)\n",
    "print(\"*\"*60)\n",
    "\n",
    "r2_val = r2_score(y_test,y_pred)\n",
    "print(\"r2 squred\\n\",r2_val)\n",
    "print(\"*\"*60)"
   ]
  },
  {
   "cell_type": "markdown",
   "id": "8d69101c",
   "metadata": {},
   "source": [
    "# find best k value using standerdization"
   ]
  },
  {
   "cell_type": "code",
   "execution_count": null,
   "id": "31dc9976",
   "metadata": {},
   "outputs": [],
   "source": [
    "r2_train_list = []\n",
    "r2_test_list = []\n",
    "k_values = range(2,21)\n",
    "for k in k_values:\n",
    "    knn_reg = KNeighborsRegressor(n_neighbors=k,p=1)\n",
    "    knn_reg.fit(std_train_df,y_train)\n",
    "    r2_train = knn_reg.score(std_train_df,y_train)\n",
    "    r2_train_list.append(r2_train)\n",
    "    \n",
    "    r2_test = knn_reg.score(std_test_df,y_test)\n",
    "    r2_test_list.append(r2_test)\n",
    "    \n",
    "print(\"r2_train_list:\\n\",r2_train_list )\n",
    "print()\n",
    "print(\"r2_test_list:\\n\",r2_test_list)\n",
    "\n",
    "\n",
    "plt.figure(figsize=(20,10))\n",
    "plt.plot(k_values,r2_train_list)\n",
    "plt.plot(k_values,r2_test_list)\n",
    "plt.xlabel(\"K vales\")\n",
    "plt.ylabel(\"Accuracy\")\n",
    "plt.title(\"Comparison between Train and Test Accuuracies\")\n",
    "plt.savefig(\"K values comparision-std.jpeg\")"
   ]
  },
  {
   "cell_type": "code",
   "execution_count": null,
   "id": "42169ff1",
   "metadata": {},
   "outputs": [],
   "source": [
    "adaB_reg = AdaBoostRegressor(n_estimators=50,random_state=11,learning_rate=0.5)\n",
    "adaB_reg.fit(x_train,y_train)"
   ]
  },
  {
   "cell_type": "code",
   "execution_count": null,
   "id": "46813fc5",
   "metadata": {},
   "outputs": [],
   "source": [
    "# testing accuracy\n",
    "y_pred = adaB_reg.predict(x_test)\n",
    "\n",
    "mse = mean_squared_error(y_test,y_pred)\n",
    "print(\"MSE\\n\",mse)\n",
    "print(\"*\"*60)\n",
    "\n",
    "rmse = np.sqrt(mse)\n",
    "print(\"RMSE\\n\",rmse)\n",
    "print(\"*\"*60)\n",
    "\n",
    "mae = mean_absolute_error(y_test,y_pred)\n",
    "print(\"MAE\\n\",mae)\n",
    "print(\"*\"*60)\n",
    "\n",
    "r2_val = r2_score(y_test,y_pred)\n",
    "print(\"r2 squred\\n\",r2_val)\n",
    "print(\"*\"*60)"
   ]
  },
  {
   "cell_type": "code",
   "execution_count": null,
   "id": "9c914f59",
   "metadata": {},
   "outputs": [],
   "source": [
    "# training data accuracy\n",
    "y_pred_train = adaB_reg.predict(x_train)\n",
    "    \n",
    "mse = mean_squared_error(y_train,y_pred_train)\n",
    "print(\"MSE\\n\",mse)\n",
    "print(\"*\"*60)\n",
    "\n",
    "rmse = np.sqrt(mse)\n",
    "print(\"RMSE\\n\",rmse)\n",
    "print(\"*\"*60)\n",
    "\n",
    "mae = mean_absolute_error(y_train,y_pred_train)\n",
    "print(\"MAE\\n\",mae)\n",
    "print(\"*\"*60)\n",
    "\n",
    "r2_val = r2_score(y_train,y_pred_train)\n",
    "print(\"r2 squred\\n\",r2_val)\n",
    "print(\"*\"*60)"
   ]
  },
  {
   "cell_type": "code",
   "execution_count": null,
   "id": "dd6acf54",
   "metadata": {},
   "outputs": [],
   "source": [
    "df.head(1).T"
   ]
  },
  {
   "cell_type": "code",
   "execution_count": null,
   "id": "06c99b2e",
   "metadata": {},
   "outputs": [],
   "source": [
    "symboling = 3.00\n",
    "normalized_losses = 127.00\n",
    "make = 0.00\n",
    "fuel_type='gas'\n",
    "aspiration='std'\n",
    "num_of_doors='two'\n",
    "body_style='convertible'\n",
    "drive_wheels='rwd'\n",
    "engine_location='front'\n",
    "wheel_base=88.60\n",
    "length=168.80\n",
    "width=64.10\n",
    "height=48.80\n",
    "curb_weight=2548.00\n",
    "engine_type='dohc'\n",
    "num_of_cylinders='four'\n",
    "engine_size=130.00\n",
    "fuel_system=1.00\n",
    "bore=3.47\n",
    "stroke=2.68\n",
    "compression_ratio=9.00\n",
    "horsepower=111.00\n",
    "peak_rpm=5000.00\n",
    "city_mpg=21.00\n",
    "highway_mpg=27.00\n"
   ]
  },
  {
   "cell_type": "code",
   "execution_count": null,
   "id": "d87e1e3b",
   "metadata": {},
   "outputs": [],
   "source": [
    "columns_names = x.columns"
   ]
  },
  {
   "cell_type": "code",
   "execution_count": null,
   "id": "1320fbb1",
   "metadata": {},
   "outputs": [],
   "source": [
    "columns_names"
   ]
  },
  {
   "cell_type": "code",
   "execution_count": null,
   "id": "a44fea21",
   "metadata": {},
   "outputs": [],
   "source": [
    "test_array = np.zeros(len(x.columns))\n",
    "test_array"
   ]
  },
  {
   "cell_type": "code",
   "execution_count": null,
   "id": "f7644ef6",
   "metadata": {},
   "outputs": [],
   "source": [
    "test_array[0] = symboling\n",
    "test_array[1] = normalized_losses\n",
    "test_array[2] = make\n",
    "test_array[3] = label_encoded_data['fuel_type'][fuel_type]\n",
    "test_array[4] = label_encoded_data['aspiration'][aspiration]\n",
    "test_array[5] = label_encoded_data['num_of_doors'][num_of_doors]\n",
    "test_array[6] = label_encoded_data['body_style'][body_style]\n",
    "test_array[7] = label_encoded_data['drive_wheels'][drive_wheels]\n",
    "test_array[8] = label_encoded_data['engine_location'][engine_location]\n",
    "test_array[9] = wheel_base\n",
    "test_array[10] = length\n",
    "test_array[11] = width\n",
    "test_array[12] = height\n",
    "test_array[13] = curb_weight\n",
    "test_array[14] = label_encoded_data['engine_type'][engine_type]\n",
    "test_array[15] = label_encoded_data['num_of_cylinders'][num_of_cylinders]\n",
    "test_array[16] = engine_size\n",
    "test_array[17] = fuel_system\n",
    "test_array[18] = bore\n",
    "test_array[19] = stroke\n",
    "test_array[20] = compression_ratio\n",
    "test_array[21] = horsepower\n",
    "test_array[22] = peak_rpm\n",
    "test_array[23] = city_mpg\n",
    "test_array[24] = highway_mpg\n"
   ]
  },
  {
   "cell_type": "code",
   "execution_count": null,
   "id": "f0e3964b",
   "metadata": {},
   "outputs": [],
   "source": [
    "label_encoded_data = {\"fuel_type\":{'gas': 1, 'diesel': 2},\n",
    "                    \"aspiration\":{'std': 0, 'turbo': 1},\n",
    "                     \"num_of_doors\":{'two':2,\"four\":4},\n",
    "                     \"body_style\":{'sedan': 1, 'hatchback': 2, 'wagon': 3, 'hardtop': 4, 'convertible': 5},\n",
    "                     \"drive_wheels\":{'fwd': 1, 'rwd': 2, '4wd': 3},\n",
    "                     \"engine_location\":{'front': 1, 'rear': 2},\n",
    "                     \"engine_type\":{'ohc': 1,'ohcf': 2,'ohcv': 3,'dohc': 4,'l': 5,'rotor': 6,'dohcv': 7},\n",
    "                     \"num_of_cylinders\":{'four': 4,'six': 6,'five': 5,'eight': 8,'two': 2,'three': 3,'twelve': 12}\n",
    "                     }\n",
    "\n",
    "label_encoded_data['num_of_cylinders'][num_of_cylinders]"
   ]
  },
  {
   "cell_type": "code",
   "execution_count": null,
   "id": "3968e377",
   "metadata": {},
   "outputs": [],
   "source": [
    "np.around(adaB_reg.predict([test_array])[0],4)"
   ]
  },
  {
   "cell_type": "code",
   "execution_count": null,
   "id": "d2d0b1d5",
   "metadata": {},
   "outputs": [],
   "source": [
    "import pickle\n",
    "import json"
   ]
  },
  {
   "cell_type": "code",
   "execution_count": null,
   "id": "34f86429",
   "metadata": {},
   "outputs": [],
   "source": [
    "with open(\"AdaB_reg.pkl\",\"wb\") as f:\n",
    "    pickle.dump(adaB_reg,f)"
   ]
  },
  {
   "cell_type": "code",
   "execution_count": null,
   "id": "4cca6adb",
   "metadata": {},
   "outputs": [],
   "source": [
    "Project_data = {\"fuel_type\":{'gas': 1, 'diesel': 2},\n",
    "                    \"aspiration\":{'std': 0, 'turbo': 1},\n",
    "                     \"num_of_doors\":{'two':2,\"four\":4},\n",
    "                     \"body_style\":{'sedan': 1, 'hatchback': 2, 'wagon': 3, 'hardtop': 4, 'convertible': 5},\n",
    "                     \"drive_wheels\":{'fwd': 1, 'rwd': 2, '4wd': 3},\n",
    "                     \"engine_location\":{'front': 1, 'rear': 2},\n",
    "                     \"engine_type\":{'ohc': 1,'ohcf': 2,'ohcv': 3,'dohc': 4,'l': 5,'rotor': 6,'dohcv': 7},\n",
    "                     \"num_of_cylinders\":{'four': 4,'six': 6,'five': 5,'eight': 8,'two': 2,'three': 3,'twelve': 12},\n",
    "                     \"columns\":list(x.columns)\n",
    "                     }"
   ]
  },
  {
   "cell_type": "code",
   "execution_count": null,
   "id": "7720f44f",
   "metadata": {},
   "outputs": [],
   "source": [
    "with open(\"project_data.json\",\"w\") as f:\n",
    "    json.dump(Project_data,f)"
   ]
  },
  {
   "cell_type": "code",
   "execution_count": null,
   "id": "ef19a895",
   "metadata": {},
   "outputs": [],
   "source": []
  }
 ],
 "metadata": {
  "kernelspec": {
   "display_name": "Python 3 (ipykernel)",
   "language": "python",
   "name": "python3"
  },
  "language_info": {
   "codemirror_mode": {
    "name": "ipython",
    "version": 3
   },
   "file_extension": ".py",
   "mimetype": "text/x-python",
   "name": "python",
   "nbconvert_exporter": "python",
   "pygments_lexer": "ipython3",
   "version": "3.9.13"
  }
 },
 "nbformat": 4,
 "nbformat_minor": 5
}
